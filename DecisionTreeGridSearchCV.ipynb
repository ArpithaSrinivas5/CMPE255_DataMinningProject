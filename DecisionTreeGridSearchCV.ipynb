{
  "cells": [
    {
      "cell_type": "markdown",
      "metadata": {
        "id": "view-in-github",
        "colab_type": "text"
      },
      "source": [
        "<a href=\"https://colab.research.google.com/github/ArpithaSrinivas5/CMPE255_DataMinningProject/blob/Sarah_branch/DecisionTreeGridSearchCV.ipynb\" target=\"_parent\"><img src=\"https://colab.research.google.com/assets/colab-badge.svg\" alt=\"Open In Colab\"/></a>"
      ]
    },
    {
      "cell_type": "code",
      "execution_count": 1,
      "metadata": {
        "id": "kKTXTZfMPeDS"
      },
      "outputs": [],
      "source": [
        "import pandas as pd\n",
        "import numpy as np\n",
        "from sklearn.model_selection import train_test_split\n",
        "from PIL import Image\n"
      ]
    },
    {
      "cell_type": "code",
      "execution_count": 2,
      "metadata": {
        "id": "sQGgzZ61Pw8A"
      },
      "outputs": [],
      "source": [
        "train=pd.read_csv(\"/content/drive/Shareddrives/CMPE 255 - Team Project/train_stratified.csv\",header=0)\n",
        "\n"
      ]
    },
    {
      "cell_type": "code",
      "execution_count": 24,
      "metadata": {
        "id": "6KLkVANXPy30"
      },
      "outputs": [],
      "source": [
        "y_train=train.iloc[:,0]\n",
        "x_train=train.iloc[:,1:]\n"
      ]
    },
    {
      "cell_type": "code",
      "source": [
        "#x_train, x_test, y_train, y_test = train_test_split(train.iloc[:,1:], train.iloc[:,0], test_size=0.9, random_state=42)"
      ],
      "metadata": {
        "id": "xQ0LJdCHXTdq"
      },
      "execution_count": 18,
      "outputs": []
    },
    {
      "cell_type": "code",
      "execution_count": 13,
      "metadata": {
        "id": "1CPZOfMlJJV9"
      },
      "outputs": [],
      "source": [
        "from sklearn.tree import DecisionTreeClassifier\n",
        "from sklearn.model_selection import GridSearchCV"
      ]
    },
    {
      "cell_type": "code",
      "execution_count": 14,
      "metadata": {
        "id": "6-RmsE8APKht"
      },
      "outputs": [],
      "source": [
        "    decision_tree = DecisionTreeClassifier()\n",
        "\n"
      ]
    },
    {
      "cell_type": "code",
      "execution_count": 25,
      "metadata": {
        "colab": {
          "base_uri": "https://localhost:8080/"
        },
        "id": "N_P3C9j7or4q",
        "outputId": "7fabd3a1-e701-41e6-f220-1bcd63eb67d3"
      },
      "outputs": [
        {
          "output_type": "execute_result",
          "data": {
            "text/plain": [
              "DecisionTreeClassifier()"
            ]
          },
          "metadata": {},
          "execution_count": 25
        }
      ],
      "source": [
        "decision_tree.fit(x_train, y_train)"
      ]
    },
    {
      "cell_type": "code",
      "execution_count": 26,
      "metadata": {
        "id": "S2T35V9gp0vd"
      },
      "outputs": [],
      "source": [
        "param_dict={\"criterion\":['gini','entropy']}"
      ]
    },
    {
      "cell_type": "code",
      "execution_count": 27,
      "metadata": {
        "colab": {
          "base_uri": "https://localhost:8080/"
        },
        "id": "neT260PypJXU",
        "outputId": "79712408-b2ad-4f57-aa4e-8231f8de701d"
      },
      "outputs": [
        {
          "output_type": "stream",
          "name": "stdout",
          "text": [
            "Fitting 5 folds for each of 2 candidates, totalling 10 fits\n"
          ]
        },
        {
          "output_type": "execute_result",
          "data": {
            "text/plain": [
              "GridSearchCV(cv=5, estimator=DecisionTreeClassifier(), n_jobs=-1,\n",
              "             param_grid={'criterion': ['gini', 'entropy']}, verbose=1)"
            ]
          },
          "metadata": {},
          "execution_count": 27
        }
      ],
      "source": [
        "grid=GridSearchCV(decision_tree,param_grid=param_dict,cv=5,verbose=1,n_jobs=-1)\n",
        "grid.fit(x_train, y_train)"
      ]
    },
    {
      "cell_type": "code",
      "execution_count": 28,
      "metadata": {
        "id": "MtSu0Yr7qZk_",
        "colab": {
          "base_uri": "https://localhost:8080/"
        },
        "outputId": "c2e75963-3368-4084-a738-90583d73190e"
      },
      "outputs": [
        {
          "output_type": "execute_result",
          "data": {
            "text/plain": [
              "{'criterion': 'entropy'}"
            ]
          },
          "metadata": {},
          "execution_count": 28
        }
      ],
      "source": [
        "grid.best_params_"
      ]
    },
    {
      "cell_type": "code",
      "execution_count": 29,
      "metadata": {
        "id": "K5IxjAtCqfyQ",
        "colab": {
          "base_uri": "https://localhost:8080/"
        },
        "outputId": "bea8b1ab-dada-4505-f6b9-3614b9eefd72"
      },
      "outputs": [
        {
          "output_type": "execute_result",
          "data": {
            "text/plain": [
              "0.9377433212511747"
            ]
          },
          "metadata": {},
          "execution_count": 29
        }
      ],
      "source": [
        "grid.best_score_"
      ]
    },
    {
      "cell_type": "code",
      "execution_count": null,
      "metadata": {
        "id": "hPvXNRBZUL4I"
      },
      "outputs": [],
      "source": []
    }
  ],
  "metadata": {
    "colab": {
      "provenance": [],
      "mount_file_id": "18Qfo6nbdcvCsp06_D7oQ2HiDwrXg1tbS",
      "authorship_tag": "ABX9TyNK0MgxQzhCyhM7Qv7aV3rT",
      "include_colab_link": true
    },
    "kernelspec": {
      "display_name": "Python 3",
      "name": "python3"
    },
    "language_info": {
      "name": "python"
    }
  },
  "nbformat": 4,
  "nbformat_minor": 0
}