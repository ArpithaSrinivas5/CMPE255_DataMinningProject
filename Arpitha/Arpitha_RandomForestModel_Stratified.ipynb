{
  "nbformat": 4,
  "nbformat_minor": 0,
  "metadata": {
    "colab": {
      "provenance": [],
      "collapsed_sections": []
    },
    "kernelspec": {
      "name": "python3",
      "display_name": "Python 3"
    },
    "language_info": {
      "name": "python"
    }
  },
  "cells": [
    {
      "cell_type": "code",
      "execution_count": 1,
      "metadata": {
        "id": "pzZVS0p9npR1"
      },
      "outputs": [],
      "source": [
        "#imports\n",
        "import pandas as pd\n",
        "import numpy as np\n",
        "from PIL import Image\n",
        "np.set_printoptions(linewidth=155)\n"
      ]
    },
    {
      "cell_type": "code",
      "source": [
        "from google.colab import drive\n",
        "drive.mount('/content/drive')"
      ],
      "metadata": {
        "id": "goBfVATZG2H2",
        "colab": {
          "base_uri": "https://localhost:8080/"
        },
        "outputId": "63dfcd76-78c9-438e-d610-b9ace4a1caaf"
      },
      "execution_count": 2,
      "outputs": [
        {
          "output_type": "stream",
          "name": "stdout",
          "text": [
            "Drive already mounted at /content/drive; to attempt to forcibly remount, call drive.mount(\"/content/drive\", force_remount=True).\n"
          ]
        }
      ]
    },
    {
      "cell_type": "code",
      "source": [
        "#loading the  the datasets\n",
        "input_file = \"/content/drive/MyDrive/CMPE-255-Project/train.csv\" \n",
        "Handwrittendata = pd.read_csv(input_file, header=None)\n",
        "\n",
        "train = pd.read_csv(\"/content/drive/MyDrive/CMPE-255-Project/train_stratified.csv\", header=None, na_values=\"?\")\n",
        "\n",
        "test = pd.read_csv(\"/content/drive/MyDrive/CMPE-255-Project/test_stratified.csv\", header=None, na_values=\"?\")\n",
        "\n",
        "# train = pd.read_csv(\"/content/drive/MyDrive/CMPE-255-Project/train.csv\", header=None, na_values=\"?\")\n",
        "\n",
        "# test = pd.read_csv(\"/content/drive/MyDrive/CMPE-255-Project/test.csv\", header=None, na_values=\"?\")\n",
        "\n",
        "\n"
      ],
      "metadata": {
        "id": "7jLBni2Nnv7F"
      },
      "execution_count": 3,
      "outputs": []
    },
    {
      "cell_type": "code",
      "source": [
        "Handwrittendata.info()"
      ],
      "metadata": {
        "id": "FK19kELiy9QN",
        "colab": {
          "base_uri": "https://localhost:8080/"
        },
        "outputId": "f0293aa0-a673-4015-d28e-789ca1099d3e"
      },
      "execution_count": 4,
      "outputs": [
        {
          "output_type": "stream",
          "name": "stdout",
          "text": [
            "<class 'pandas.core.frame.DataFrame'>\n",
            "RangeIndex: 297961 entries, 0 to 297960\n",
            "Columns: 785 entries, 0 to 784\n",
            "dtypes: float64(734), int64(51)\n",
            "memory usage: 1.7 GB\n"
          ]
        }
      ]
    },
    {
      "cell_type": "code",
      "source": [
        "Handwrittendata.iloc[:,0].value_counts()"
      ],
      "metadata": {
        "id": "IZF3tIhjznw0",
        "colab": {
          "base_uri": "https://localhost:8080/"
        },
        "outputId": "5b5a7789-ac4e-4424-e3b3-39106935cba4"
      },
      "execution_count": 5,
      "outputs": [
        {
          "output_type": "execute_result",
          "data": {
            "text/plain": [
              "14    46266\n",
              "18    38778\n",
              "20    23198\n",
              "2     18705\n",
              "19    18003\n",
              "15    15577\n",
              "13    15156\n",
              "0     11075\n",
              "12     9835\n",
              "11     9301\n",
              "4      9234\n",
              "17     9196\n",
              "24     8665\n",
              "22     8657\n",
              "3      8058\n",
              "1      6968\n",
              "9      6817\n",
              "7      5721\n",
              "23     5028\n",
              "25     4855\n",
              "6      4658\n",
              "16     4602\n",
              "10     4460\n",
              "21     3311\n",
              "5       937\n",
              "8       900\n",
              "Name: 0, dtype: int64"
            ]
          },
          "metadata": {},
          "execution_count": 5
        }
      ]
    },
    {
      "cell_type": "code",
      "source": [
        "row1 = Handwrittendata.iloc[2234,:].values\n",
        "\n",
        "row1 = row1[0:8381]\n",
        "\n",
        "print(row1)\n",
        "print(type(row1))\n",
        "print(row1.shape)"
      ],
      "metadata": {
        "id": "EMlNOB450XHf",
        "colab": {
          "base_uri": "https://localhost:8080/"
        },
        "outputId": "142f2968-c68b-437b-907d-108357b8c74e"
      },
      "execution_count": 6,
      "outputs": [
        {
          "output_type": "stream",
          "name": "stdout",
          "text": [
            "[ 13.   0.   0.   0.   0.   0.   0.   0.   0.   0.   0.   0.   0.   0.   0.   0.   0.   0.   0.   0.   0.   0.   0.   0.   0.   0.   0.   0.   0.   0.\n",
            "   0.   0.   0.   0.   0.   0.   0.   0.   0.   0.   0.   0.   0.   0.   0.   0.   0.   0.   0.   0.   0.   0.   0.   0.   0.   0.   0.   0.   0.   0.\n",
            "   0.   0.   0.   0.   0.   0.   0.   0.   0.   0.   0.   0.   0.   0.   0.   0.   0.   0.   0.   0.   0.   0.   0.   0.   0.   0.   0.   0.   0.   0.\n",
            "   0.   0.   0.   0.   0.   0.   0.   0.   0.   0.   0.   0.   0.   0.   0.   0.   0.   0.   0.   0.   0.   0.   0.   0.   0.   0.   0.   0.   0.   0.\n",
            "   0.   0.   0.   0.   0.   0.   0.   0.   0.   0.   0.   0.   0.   0.   0.   0.   0.   0.   0.   0.   0.   0.   0.   0.   0.   0.   0.   0.   0.   0.\n",
            "   0.   0.   0.   0.   0.   0.   0.   0.   0.   0.   0.   0.   0.   0.   0.   0.   0.   0.   0.   0.   0.   0.   0.   0.   0.   0.   0.   0.   0.   0.\n",
            "   0.   0.   0.   0.   0.   0.   0.   0.   0.   0.   0.   0.   0.   0.   0.   0.   0.   0.   0.   0.   0.   0.   0.   0.   0.   0.   0.   0.   0.   0.\n",
            "  63.   0.   0.   0.   0.   0.   0.   0.   0.  70. 255.   0.   0.   0.   0.   0.   0.   0.   0.   0.   0.   0.   0.   0.   0.   0.   0.   0. 194. 121.\n",
            "   0.   0.   0.   0.   0.   0.   6. 190. 255.   0.   0.   0.   0.   0.   0.   0.   0.   0.   0.   0.   0.   0.   0.   0.   0. 120. 251. 196.   0.   0.\n",
            "   0.   0.   0.   0.  66. 255. 255.   0.   0.   0.   0.   0.   0.   0.   0.   0.   0.   0.   0.   0.   0.   0. 118. 249. 255. 196.   0.   0.   0.   0.\n",
            "   0.  17. 243. 255. 255.   0.   0.   0.   0.   0.   0.   0.   0.   0.   0.   0.   0.   0.   0. 184. 248. 255. 255. 196.   0.   0.   0.   0.   0.  20.\n",
            " 255. 253. 102.   0.   0.   0.   0.   0.   0.   0.   0.   0.   0.   0.   0.   0. 113. 248. 255. 255. 255. 196.   0.   0.   0.   0.   0. 126. 255. 210.\n",
            "   0.   0.   0.   0.   0.   0.   0.   0.   0.   0.   0.   0.   0. 110. 248. 255. 255. 255. 255. 196.   0.   0.   0.   0.  54. 232. 255. 118.   0.   0.\n",
            "   0.   0.   0.   0.   0.   0.   0.   0.   0.   0. 107. 248. 255. 255. 255. 255. 255. 128.   0.   0.   0.  24. 230. 255. 252.  92.   0.   0.   0.   0.\n",
            "   0.   0.   0.   0.   0.   0.   0. 102. 249. 255. 255. 255. 231. 255. 255. 196.   0.   0.   7. 142. 255. 251. 129.   0.   0.   0.   0.   0.   0.   0.\n",
            "   0.   0.   0.   0.  98. 251. 255. 255. 255. 111.  82. 247. 255. 205.  38. 129. 183. 255. 255. 235.   0.   0.   0.   0.   0.   0.   0.   0.   0.   0.\n",
            "   0.  93. 253. 255. 255. 255. 183.  15.   0. 188. 255. 255. 255. 255. 255. 255. 224.  87.   0.   0.   0.   0.   0.   0.   0.   0.   0.   0.   0. 255.\n",
            " 255. 255. 238. 185.  13.   0.   0.  29. 220. 255. 255. 252. 216. 104.  40.   0.   0.   0.   0.   0.   0.   0.   0.   0.   0.   0.   0. 178. 255. 255.\n",
            "  20.   0.   0.   0.   0.   0. 121. 246. 246. 134.   0.   0.   0.   0.   0.   0.   0.   0.   0.   0.   0.   0.   0.   0.   0.   0. 181. 130.   9.   0.\n",
            "   0.   0.   0.   0.   0.   0.   0.   0.   0.   0.   0.   0.   0.   0.   0.   0.   0.   0.   0.   0.   0.   0.   0.   0.   0.   0.   0.   0.   0.   0.\n",
            "   0.   0.   0.   0.   0.   0.   0.   0.   0.   0.   0.   0.   0.   0.   0.   0.   0.   0.   0.   0.   0.   0.   0.   0.   0.   0.   0.   0.   0.   0.\n",
            "   0.   0.   0.   0.   0.   0.   0.   0.   0.   0.   0.   0.   0.   0.   0.   0.   0.   0.   0.   0.   0.   0.   0.   0.   0.   0.   0.   0.   0.   0.\n",
            "   0.   0.   0.   0.   0.   0.   0.   0.   0.   0.   0.   0.   0.   0.   0.   0.   0.   0.   0.   0.   0.   0.   0.   0.   0.   0.   0.   0.   0.   0.\n",
            "   0.   0.   0.   0.   0.   0.   0.   0.   0.   0.   0.   0.   0.   0.   0.   0.   0.   0.   0.   0.   0.   0.   0.   0.   0.   0.   0.   0.   0.   0.\n",
            "   0.   0.   0.   0.   0.   0.   0.   0.   0.   0.   0.   0.   0.   0.   0.   0.   0.   0.   0.   0.   0.   0.   0.   0.   0.   0.   0.   0.   0.   0.\n",
            "   0.   0.   0.   0.   0.   0.   0.   0.   0.   0.   0.   0.   0.   0.   0.   0.   0.   0.   0.   0.   0.   0.   0.   0.   0.   0.   0.   0.   0.   0.\n",
            "   0.   0.   0.   0.   0.]\n",
            "<class 'numpy.ndarray'>\n",
            "(785,)\n"
          ]
        }
      ]
    },
    {
      "cell_type": "code",
      "source": [
        "mat1 = np.resize(row1,(28,28))"
      ],
      "metadata": {
        "id": "Rtp0AT500fE9"
      },
      "execution_count": 7,
      "outputs": []
    },
    {
      "cell_type": "code",
      "source": [
        "print(mat1)"
      ],
      "metadata": {
        "id": "CtpLZUYy0l7j",
        "colab": {
          "base_uri": "https://localhost:8080/"
        },
        "outputId": "ebed100d-c442-4c1b-81fa-77e160b23350"
      },
      "execution_count": 8,
      "outputs": [
        {
          "output_type": "stream",
          "name": "stdout",
          "text": [
            "[[ 13.   0.   0.   0.   0.   0.   0.   0.   0.   0.   0.   0.   0.   0.   0.   0.   0.   0.   0.   0.   0.   0.   0.   0.   0.   0.   0.   0.]\n",
            " [  0.   0.   0.   0.   0.   0.   0.   0.   0.   0.   0.   0.   0.   0.   0.   0.   0.   0.   0.   0.   0.   0.   0.   0.   0.   0.   0.   0.]\n",
            " [  0.   0.   0.   0.   0.   0.   0.   0.   0.   0.   0.   0.   0.   0.   0.   0.   0.   0.   0.   0.   0.   0.   0.   0.   0.   0.   0.   0.]\n",
            " [  0.   0.   0.   0.   0.   0.   0.   0.   0.   0.   0.   0.   0.   0.   0.   0.   0.   0.   0.   0.   0.   0.   0.   0.   0.   0.   0.   0.]\n",
            " [  0.   0.   0.   0.   0.   0.   0.   0.   0.   0.   0.   0.   0.   0.   0.   0.   0.   0.   0.   0.   0.   0.   0.   0.   0.   0.   0.   0.]\n",
            " [  0.   0.   0.   0.   0.   0.   0.   0.   0.   0.   0.   0.   0.   0.   0.   0.   0.   0.   0.   0.   0.   0.   0.   0.   0.   0.   0.   0.]\n",
            " [  0.   0.   0.   0.   0.   0.   0.   0.   0.   0.   0.   0.   0.   0.   0.   0.   0.   0.   0.   0.   0.   0.   0.   0.   0.   0.   0.   0.]\n",
            " [  0.   0.   0.   0.   0.   0.   0.   0.   0.   0.   0.   0.   0.   0.  63.   0.   0.   0.   0.   0.   0.   0.   0.  70. 255.   0.   0.   0.]\n",
            " [  0.   0.   0.   0.   0.   0.   0.   0.   0.   0.   0.   0.   0.   0. 194. 121.   0.   0.   0.   0.   0.   0.   6. 190. 255.   0.   0.   0.]\n",
            " [  0.   0.   0.   0.   0.   0.   0.   0.   0.   0.   0.   0.   0. 120. 251. 196.   0.   0.   0.   0.   0.   0.  66. 255. 255.   0.   0.   0.]\n",
            " [  0.   0.   0.   0.   0.   0.   0.   0.   0.   0.   0.   0. 118. 249. 255. 196.   0.   0.   0.   0.   0.  17. 243. 255. 255.   0.   0.   0.]\n",
            " [  0.   0.   0.   0.   0.   0.   0.   0.   0.   0.   0. 184. 248. 255. 255. 196.   0.   0.   0.   0.   0.  20. 255. 253. 102.   0.   0.   0.]\n",
            " [  0.   0.   0.   0.   0.   0.   0.   0.   0.   0. 113. 248. 255. 255. 255. 196.   0.   0.   0.   0.   0. 126. 255. 210.   0.   0.   0.   0.]\n",
            " [  0.   0.   0.   0.   0.   0.   0.   0.   0. 110. 248. 255. 255. 255. 255. 196.   0.   0.   0.   0.  54. 232. 255. 118.   0.   0.   0.   0.]\n",
            " [  0.   0.   0.   0.   0.   0.   0.   0. 107. 248. 255. 255. 255. 255. 255. 128.   0.   0.   0.  24. 230. 255. 252.  92.   0.   0.   0.   0.]\n",
            " [  0.   0.   0.   0.   0.   0.   0. 102. 249. 255. 255. 255. 231. 255. 255. 196.   0.   0.   7. 142. 255. 251. 129.   0.   0.   0.   0.   0.]\n",
            " [  0.   0.   0.   0.   0.   0.  98. 251. 255. 255. 255. 111.  82. 247. 255. 205.  38. 129. 183. 255. 255. 235.   0.   0.   0.   0.   0.   0.]\n",
            " [  0.   0.   0.   0.   0.  93. 253. 255. 255. 255. 183.  15.   0. 188. 255. 255. 255. 255. 255. 255. 224.  87.   0.   0.   0.   0.   0.   0.]\n",
            " [  0.   0.   0.   0.   0. 255. 255. 255. 238. 185.  13.   0.   0.  29. 220. 255. 255. 252. 216. 104.  40.   0.   0.   0.   0.   0.   0.   0.]\n",
            " [  0.   0.   0.   0.   0. 178. 255. 255.  20.   0.   0.   0.   0.   0. 121. 246. 246. 134.   0.   0.   0.   0.   0.   0.   0.   0.   0.   0.]\n",
            " [  0.   0.   0.   0.   0.   0. 181. 130.   9.   0.   0.   0.   0.   0.   0.   0.   0.   0.   0.   0.   0.   0.   0.   0.   0.   0.   0.   0.]\n",
            " [  0.   0.   0.   0.   0.   0.   0.   0.   0.   0.   0.   0.   0.   0.   0.   0.   0.   0.   0.   0.   0.   0.   0.   0.   0.   0.   0.   0.]\n",
            " [  0.   0.   0.   0.   0.   0.   0.   0.   0.   0.   0.   0.   0.   0.   0.   0.   0.   0.   0.   0.   0.   0.   0.   0.   0.   0.   0.   0.]\n",
            " [  0.   0.   0.   0.   0.   0.   0.   0.   0.   0.   0.   0.   0.   0.   0.   0.   0.   0.   0.   0.   0.   0.   0.   0.   0.   0.   0.   0.]\n",
            " [  0.   0.   0.   0.   0.   0.   0.   0.   0.   0.   0.   0.   0.   0.   0.   0.   0.   0.   0.   0.   0.   0.   0.   0.   0.   0.   0.   0.]\n",
            " [  0.   0.   0.   0.   0.   0.   0.   0.   0.   0.   0.   0.   0.   0.   0.   0.   0.   0.   0.   0.   0.   0.   0.   0.   0.   0.   0.   0.]\n",
            " [  0.   0.   0.   0.   0.   0.   0.   0.   0.   0.   0.   0.   0.   0.   0.   0.   0.   0.   0.   0.   0.   0.   0.   0.   0.   0.   0.   0.]\n",
            " [  0.   0.   0.   0.   0.   0.   0.   0.   0.   0.   0.   0.   0.   0.   0.   0.   0.   0.   0.   0.   0.   0.   0.   0.   0.   0.   0.   0.]]\n"
          ]
        }
      ]
    },
    {
      "cell_type": "code",
      "source": [
        "im = Image.fromarray(mat1.astype(np.uint8))"
      ],
      "metadata": {
        "id": "qFm2nEdg0puu"
      },
      "execution_count": 9,
      "outputs": []
    },
    {
      "cell_type": "code",
      "source": [
        "im"
      ],
      "metadata": {
        "id": "EtnJFBcE0tJd",
        "colab": {
          "base_uri": "https://localhost:8080/",
          "height": 45
        },
        "outputId": "949cd62e-8288-4bba-d4ab-84fca15c2385"
      },
      "execution_count": 10,
      "outputs": [
        {
          "output_type": "execute_result",
          "data": {
            "text/plain": [
              "<PIL.Image.Image image mode=L size=28x28 at 0x7FEC466B6BD0>"
            ],
            "image/png": "[encoded data removed]"
          },
          "metadata": {},
          "execution_count": 10
        }
      ]
    },
    {
      "cell_type": "code",
      "source": [
        "#Load other modules\n",
        "import matplotlib.pyplot as plt\n",
        "import seaborn as sns\n",
        "from sklearn.ensemble import RandomForestClassifier  #Random Forest algorithm\n",
        "from sklearn.model_selection import train_test_split\n",
        "from sklearn.metrics import classification_report, confusion_matrix\n",
        "from sklearn.model_selection import RandomizedSearchCV, GridSearchCV \n",
        "from sklearn.model_selection import cross_val_score"
      ],
      "metadata": {
        "id": "csxXyy_40O1u"
      },
      "execution_count": 11,
      "outputs": []
    },
    {
      "cell_type": "markdown",
      "source": [],
      "metadata": {
        "id": "VnztD5kbKwZS"
      }
    },
    {
      "cell_type": "code",
      "source": [
        "#Seperate the target and independant variables\n",
        "df_x=train.iloc[:,1:]\n",
        "df_y=train.iloc[:,0]"
      ],
      "metadata": {
        "id": "HROb--gN057C"
      },
      "execution_count": 12,
      "outputs": []
    },
    {
      "cell_type": "code",
      "source": [
        "def print_image(row, df):\n",
        "    temp=df.iloc[row,:].values\n",
        "    temp = temp.reshape(28,28).astype('uint8')\n",
        "    plt.imshow(temp)"
      ],
      "metadata": {
        "id": "sY4_-VHf09AC"
      },
      "execution_count": 13,
      "outputs": []
    },
    {
      "cell_type": "code",
      "source": [
        "print_image(1, df_x)"
      ],
      "metadata": {
        "id": "zubLjUBc0_Sy",
        "colab": {
          "base_uri": "https://localhost:8080/",
          "height": 265
        },
        "outputId": "ff621b01-154b-4054-d765-e2e00b0f2282"
      },
      "execution_count": 14,
      "outputs": [
        {
          "output_type": "display_data",
          "data": {
            "text/plain": [
              "<Figure size 432x288 with 1 Axes>"
            ],
            "image/png": "[encoded data removed]"
          },
          "metadata": {
            "needs_background": "light"
          }
        }
      ]
    },
    {
      "cell_type": "code",
      "source": [
        "print_image(2, df_x)"
      ],
      "metadata": {
        "colab": {
          "base_uri": "https://localhost:8080/",
          "height": 265
        },
        "id": "WT3vI_Nh4oPO",
        "outputId": "653016ae-7e23-4aee-bb5f-2c34f52926ca"
      },
      "execution_count": 22,
      "outputs": [
        {
          "output_type": "display_data",
          "data": {
            "text/plain": [
              "<Figure size 432x288 with 1 Axes>"
            ],
            "image/png": "[encoded data removed]"
          },
          "metadata": {
            "needs_background": "light"
          }
        }
      ]
    },
    {
      "cell_type": "code",
      "source": [
        "#Check the frequency of each number\n",
        "df_y.value_counts().sort_index()"
      ],
      "metadata": {
        "id": "G79IuVzb1ElI",
        "colab": {
          "base_uri": "https://localhost:8080/"
        },
        "outputId": "939e779c-ed0a-4860-ffeb-521d60defe97"
      },
      "execution_count": 15,
      "outputs": [
        {
          "output_type": "execute_result",
          "data": {
            "text/plain": [
              "0     11096\n",
              "1      6934\n",
              "2     18727\n",
              "3      8107\n",
              "4      9152\n",
              "5       930\n",
              "6      4610\n",
              "7      5774\n",
              "8       896\n",
              "9      6794\n",
              "10     4482\n",
              "11     9269\n",
              "12     9869\n",
              "13    15208\n",
              "14    46260\n",
              "15    15473\n",
              "16     4650\n",
              "17     9253\n",
              "18    38735\n",
              "19    17996\n",
              "20    23207\n",
              "21     3346\n",
              "22     8627\n",
              "23     5018\n",
              "24     8687\n",
              "25     4861\n",
              "Name: 0, dtype: int64"
            ]
          },
          "metadata": {},
          "execution_count": 15
        }
      ]
    },
    {
      "cell_type": "code",
      "source": [
        "sns.countplot(df_y)"
      ],
      "metadata": {
        "id": "wS_RQwJd1LEN",
        "colab": {
          "base_uri": "https://localhost:8080/",
          "height": 352
        },
        "outputId": "5a216639-35c7-4647-cd45-2b9b25ddab31"
      },
      "execution_count": 16,
      "outputs": [
        {
          "output_type": "stream",
          "name": "stderr",
          "text": [
            "/usr/local/lib/python3.7/dist-packages/seaborn/_decorators.py:43: FutureWarning: Pass the following variable as a keyword arg: x. From version 0.12, the only valid positional argument will be `data`, and passing other arguments without an explicit keyword will result in an error or misinterpretation.\n",
            "  FutureWarning\n"
          ]
        },
        {
          "output_type": "execute_result",
          "data": {
            "text/plain": [
              "<matplotlib.axes._subplots.AxesSubplot at 0x7fec3903e7d0>"
            ]
          },
          "metadata": {},
          "execution_count": 16
        },
        {
          "output_type": "display_data",
          "data": {
            "text/plain": [
              "<Figure size 432x288 with 1 Axes>"
            ],
            "image/png": "[encoded data removed]"
          },
          "metadata": {
            "needs_background": "light"
          }
        }
      ]
    },
    {
      "cell_type": "code",
      "source": [
        "import matplotlib.pyplot as plt\n",
        "import numpy as np\n",
        "import pandas as pd"
      ],
      "metadata": {
        "id": "CoGn3-rI1N0_"
      },
      "execution_count": 17,
      "outputs": []
    },
    {
      "cell_type": "code",
      "source": [
        "#Split the dataset\n",
        "X_train, X_test, y_train, y_test = train_test_split(df_x, df_y, test_size=0.3, random_state=0)\n",
        "print(X_train.shape)\n",
        "print(X_test.shape)\n",
        "len(X_train)\n",
        "len(X_test)"
      ],
      "metadata": {
        "id": "tWMFQ9Zr1wz0",
        "colab": {
          "base_uri": "https://localhost:8080/"
        },
        "outputId": "42ace795-e136-467b-fc07-f5a052104660"
      },
      "execution_count": 18,
      "outputs": [
        {
          "output_type": "stream",
          "name": "stdout",
          "text": [
            "(208572, 784)\n",
            "(89389, 784)\n"
          ]
        },
        {
          "output_type": "execute_result",
          "data": {
            "text/plain": [
              "89389"
            ]
          },
          "metadata": {},
          "execution_count": 18
        }
      ]
    },
    {
      "cell_type": "code",
      "source": [
        "#training random Forest\n",
        "#removed y_train bcz we dont need label\n",
        "#iloc[:,1:] taking all the rows expect the label colum \n",
        "#X_train.iloc[:,0] contains only label colum \n",
        "rf= RandomForestClassifier(n_estimators=50)\n",
        "rf.fit(df_x,df_y)\n",
        "test_df_x = test.iloc[:,1:]\n",
        "test_df_y = test.iloc[:,0]\n",
        "print(\"RandomForest Score for n_estimators=50\")\n",
        "rf.score(test_df_x,test_df_y)\n"
      ],
      "metadata": {
        "id": "X0Vk5RS4Q2u1",
        "colab": {
          "base_uri": "https://localhost:8080/"
        },
        "outputId": "bf8da131-e10d-451c-daa0-b3b062ecb308"
      },
      "execution_count": 20,
      "outputs": [
        {
          "output_type": "stream",
          "name": "stdout",
          "text": [
            "RandomForest Score for n_estimators=50\n"
          ]
        },
        {
          "output_type": "execute_result",
          "data": {
            "text/plain": [
              "0.9873541770146729"
            ]
          },
          "metadata": {},
          "execution_count": 20
        }
      ]
    },
    {
      "cell_type": "code",
      "source": [
        "rf=RandomForestClassifier(n_estimators=110)\n",
        "rf.fit(df_x,df_y)\n",
        "print(\"RandomForest Score for n_estimators=110\")\n",
        "rf.score(test_df_x,test_df_y)\n"
      ],
      "metadata": {
        "colab": {
          "base_uri": "https://localhost:8080/"
        },
        "id": "KAM30SwM39_0",
        "outputId": "d5beb798-314b-45db-fe27-19beeb1eafd7"
      },
      "execution_count": 21,
      "outputs": [
        {
          "output_type": "stream",
          "name": "stdout",
          "text": [
            "RandomForest Score for n_estimators=110\n"
          ]
        },
        {
          "output_type": "execute_result",
          "data": {
            "text/plain": [
              "0.9878374568739848"
            ]
          },
          "metadata": {},
          "execution_count": 21
        }
      ]
    },
    {
      "cell_type": "code",
      "source": [
        "# rf=RandomForestClassifier(n_estimators=120)\n",
        "# rf.fit(df_x,df_y)\n",
        "# print(\"RandomForest Score for n_estimators=120\")\n",
        "# rf.score(test_df_x,test_df_y)"
      ],
      "metadata": {
        "id": "E7gyTfiV0m1D"
      },
      "execution_count": null,
      "outputs": []
    },
    {
      "cell_type": "code",
      "source": [
        "pred= rf.predict(test.iloc[:,1:])"
      ],
      "metadata": {
        "id": "L4PQjg5t6Jl_"
      },
      "execution_count": 24,
      "outputs": []
    },
    {
      "cell_type": "code",
      "source": [
        "alphabet = ['A','B','C','D','E','F','G','H','I','J','K','L','M','N','O','P','Q','R','S','T','U','V','W','X','Y','Z']\n",
        "\n",
        "print(classification_report(test_df_y, pred, target_names=alphabet))\n"
      ],
      "metadata": {
        "id": "4ZngcyyGUHI4",
        "colab": {
          "base_uri": "https://localhost:8080/"
        },
        "outputId": "fd7c5541-ab21-4bc2-9b52-6efc7fd270a9"
      },
      "execution_count": 25,
      "outputs": [
        {
          "output_type": "stream",
          "name": "stdout",
          "text": [
            "              precision    recall  f1-score   support\n",
            "\n",
            "           A       0.97      0.99      0.98      2775\n",
            "           B       0.99      0.97      0.98      1734\n",
            "           C       0.99      0.99      0.99      4682\n",
            "           D       0.98      0.98      0.98      2027\n",
            "           E       0.99      0.99      0.99      2288\n",
            "           F       1.00      0.90      0.95       233\n",
            "           G       0.99      0.96      0.97      1152\n",
            "           H       0.98      0.95      0.97      1444\n",
            "           I       1.00      0.97      0.99       224\n",
            "           J       0.98      0.97      0.97      1699\n",
            "           K       0.98      0.97      0.97      1121\n",
            "           L       0.99      0.99      0.99      2317\n",
            "           M       0.99      0.97      0.98      2467\n",
            "           N       0.98      0.99      0.98      3802\n",
            "           O       0.99      1.00      0.99     11565\n",
            "           P       0.98      0.99      0.99      3868\n",
            "           Q       0.99      0.94      0.96      1162\n",
            "           R       0.98      0.98      0.98      2313\n",
            "           S       0.99      1.00      1.00      9684\n",
            "           T       0.99      1.00      0.99      4499\n",
            "           U       0.99      0.99      0.99      5801\n",
            "           V       0.99      0.98      0.99       836\n",
            "           W       1.00      0.98      0.99      2157\n",
            "           X       0.99      0.98      0.98      1254\n",
            "           Y       0.98      0.98      0.98      2172\n",
            "           Z       0.99      0.98      0.99      1215\n",
            "\n",
            "    accuracy                           0.99     74491\n",
            "   macro avg       0.99      0.98      0.98     74491\n",
            "weighted avg       0.99      0.99      0.99     74491\n",
            "\n"
          ]
        }
      ]
    },
    {
      "cell_type": "code",
      "source": [
        "print (\"Confusion Report\")\n",
        "cm = test_df_y, pred\n",
        "print(confusion_matrix(test_df_y, pred))"
      ],
      "metadata": {
        "id": "a_XQZKGUbpcY",
        "colab": {
          "base_uri": "https://localhost:8080/"
        },
        "outputId": "a4b08b0e-6ebf-41a2-864f-f495ca65f229"
      },
      "execution_count": 26,
      "outputs": [
        {
          "output_type": "stream",
          "name": "stdout",
          "text": [
            "Confusion Report\n",
            "[[ 2757     0     0     2     1     0     2     1     0     0     1     1     2     0     0     5     0     3     0     0     0     0     0     0     0\n",
            "      0]\n",
            " [    4  1690     1     6     0     0     1     0     0     0     0     0     1     0    15     1     0     5    10     0     0     0     0     0     0\n",
            "      0]\n",
            " [    0     0  4656     0     2     0     0     0     0     0     0     7     2     0    11     2     0     0     0     2     0     0     0     0     0\n",
            "      0]\n",
            " [    1     0     0  1982     0     0     0     0     0     0     0     0     1     0    37     2     1     0     2     0     1     0     0     0     0\n",
            "      0]\n",
            " [    2     3    13     1  2255     0     2     0     0     0     2     3     0     0     0     2     0     2     1     0     0     0     0     0     0\n",
            "      2]\n",
            " [    1     0     0     0     2   210     1     0     0     0     0     0     0     0     0    15     0     1     0     2     0     0     1     0     0\n",
            "      0]\n",
            " [    1     4     8     0     0     0  1108     0     0     0     0     1     1     0     3     1    11     0    14     0     0     0     0     0     0\n",
            "      0]\n",
            " [   22     4     0     0     0     0     0  1375     0     0     0     0     2    26     0     2     0     0     0     0     7     0     3     0     3\n",
            "      0]\n",
            " [    0     0     0     0     0     0     0     0   218     2     0     0     0     0     0     0     0     0     1     0     0     0     0     1     1\n",
            "      1]\n",
            " [    0     0     0     0     0     0     0     0     0  1641     0     0     2     2     3     0     0     0    17    22     8     0     0     0     4\n",
            "      0]\n",
            " [    1     1     7     0     4     0     0     2     0     0  1083     1     3     0     0     0     0     9     0     1     4     0     0     5     0\n",
            "      0]\n",
            " [    0     0    11     2     0     0     0     0     0     2     2  2296     0     0     0     0     0     0     0     0     2     0     0     0     2\n",
            "      0]\n",
            " [   13     1     0     0     0     0     0    13     0     0     0     0  2399    34     0     0     0     1     1     0     3     0     2     0     0\n",
            "      0]\n",
            " [   10     0     0     1     0     0     0     5     0     2     2     0     0  3764     2     2     0     1     0     0     8     0     0     2     3\n",
            "      0]\n",
            " [    0     0     0    13     0     0     0     0     0     0     0     0     0     0 11542     0     2     0     0     0     6     0     0     0     2\n",
            "      0]\n",
            " [    2     0     0     2     2     0     2     2     0     0     0     0     0     0     4  3848     0     0     0     2     0     0     0     0     4\n",
            "      0]\n",
            " [    2     1     2     2     1     0     3     0     0     0     0     0     1     0    39     4  1087    12     4     0     3     0     1     0     0\n",
            "      0]\n",
            " [   10     4     2     0     0     0     0     0     0     0     4     0     4     0     0    14     0  2273     0     0     1     0     0     0     0\n",
            "      1]\n",
            " [    2     1     5     0     2     0     3     0     0     9     0     0     2     0     3     0     0     0  9655     0     0     0     0     2     0\n",
            "      0]\n",
            " [    0     0     0     0     0     0     0     0     0     1     0     0     0     0     0     6     0     0     2  4482     0     0     0     0     8\n",
            "      0]\n",
            " [    0     0     0     8     0     0     0     2     0     0     0     0     2     3     6     0     0     3     0     0  5770     0     1     2     2\n",
            "      2]\n",
            " [    0     0     0     0     0     0     0     0     0     1     0     0     0     1     0     0     0     0     0     0     6   823     0     0     5\n",
            "      0]\n",
            " [    0     0     0     0     0     0     0     0     0     0     0     0     2    30     2     2     0     0     0     0     6     1  2114     0     0\n",
            "      0]\n",
            " [    0     0     0     0     0     0     0     0     0     0     7     0     0     0     0     0     0     1     1     0     2     0     0  1230    12\n",
            "      1]\n",
            " [    2     0     0     0     0     0     0     2     0     8     0     0     0     0     0     2     0     0     5     8     0     4     1     2  2138\n",
            "      0]\n",
            " [    0     4     0     5     8     0     0     0     0     3     0     1     1     0     0     1     0     1     1     1     0     0     0     0     0\n",
            "   1189]]\n"
          ]
        }
      ]
    },
    {
      "cell_type": "code",
      "source": [
        "from sklearn.metrics import confusion_matrix\n",
        "import seaborn as sns\n",
        "from matplotlib import rcParams\n",
        "\n",
        "alphabets = ['A', 'B', 'C', 'D', 'E', 'F', 'G', 'H', 'I', 'J', 'K', 'L', 'M', 'N', 'O', 'P', 'Q', 'R', 'S', 'T', 'U', 'V', 'W', 'X', 'Y','Z']\n",
        "cm= confusion_matrix(y_true=test_df_y, y_pred=pred)\n",
        "s = sns.heatmap(cm, xticklabels=alphabets,yticklabels=alphabets, annot=True,fmt='g', cmap='Reds', linewidth=0.10)\n",
        "s.set(title='Confusion Matrix')\n",
        "s.xaxis.tick_top()\n",
        "s.set_xlabel('Actual')\n",
        "s.set_ylabel('Predicted')\n",
        "\n",
        "rcParams['figure.figsize']=30,30"
      ],
      "metadata": {
        "colab": {
          "base_uri": "https://localhost:8080/",
          "height": 1000
        },
        "id": "FpvbflUTbRO2",
        "outputId": "920d7ab4-b3bf-42b7-97e1-1dbe52013b20"
      },
      "execution_count": 28,
      "outputs": [
        {
          "output_type": "display_data",
          "data": {
            "text/plain": [
              "<Figure size 1800x1800 with 2 Axes>"
            ],
            "image/png": "[encoded data removed]"
          },
          "metadata": {
            "needs_background": "light"
          }
        }
      ]
    },
    {
      "cell_type": "markdown",
      "source": [],
      "metadata": {
        "id": "rfd5jzjA1NO-"
      }
    },
    {
      "cell_type": "markdown",
      "source": [
        "#References\n",
        "https://stackabuse.com/random-forest-algorithm-with-python-and-scikit-learn/\n",
        "https://builtin.com/data-science/random-forest-python"
      ],
      "metadata": {
        "id": "E4xLO3bg6c15"
      }
    }
  ]
}