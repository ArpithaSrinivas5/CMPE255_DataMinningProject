{
  "nbformat": 4,
  "nbformat_minor": 0,
  "metadata": {
    "colab": {
      "provenance": [],
      "collapsed_sections": []
    },
    "kernelspec": {
      "name": "python3",
      "display_name": "Python 3"
    },
    "language_info": {
      "name": "python"
    }
  },
  "cells": [
    {
      "cell_type": "code",
      "execution_count": 2,
      "metadata": {
        "id": "pzZVS0p9npR1"
      },
      "outputs": [],
      "source": [
        "#imports\n",
        "import pandas as pd\n",
        "import numpy as np\n",
        "from PIL import Image\n",
        "np.set_printoptions(linewidth=155)\n"
      ]
    },
    {
      "cell_type": "code",
      "source": [
        "input_file = \"/content/drive/Shareddrives/CMPE 255 - Team Project/A_Z Handwritten Data.csv\"\n",
        "Handwrittendata = pd.read_csv(input_file, header = 0)\n"
      ],
      "metadata": {
        "id": "7jLBni2Nnv7F"
      },
      "execution_count": 3,
      "outputs": []
    },
    {
      "cell_type": "code",
      "source": [
        "Handwrittendata.info()"
      ],
      "metadata": {
        "id": "FK19kELiy9QN",
        "colab": {
          "base_uri": "https://localhost:8080/"
        },
        "outputId": "09d01d24-f2d9-4d2e-f10f-61bc1629aee3"
      },
      "execution_count": 4,
      "outputs": [
        {
          "output_type": "stream",
          "name": "stdout",
          "text": [
            "<class 'pandas.core.frame.DataFrame'>\n",
            "RangeIndex: 372450 entries, 0 to 372449\n",
            "Columns: 785 entries, 0 to 0.648\n",
            "dtypes: int64(785)\n",
            "memory usage: 2.2 GB\n"
          ]
        }
      ]
    },
    {
      "cell_type": "code",
      "source": [
        "Handwrittendata.iloc[:,0].value_counts()"
      ],
      "metadata": {
        "id": "IZF3tIhjznw0",
        "colab": {
          "base_uri": "https://localhost:8080/"
        },
        "outputId": "b9d9f74c-0e1b-4a83-cad8-84c886820a5a"
      },
      "execution_count": 5,
      "outputs": [
        {
          "output_type": "execute_result",
          "data": {
            "text/plain": [
              "14    57825\n",
              "18    48419\n",
              "20    29008\n",
              "2     23409\n",
              "19    22495\n",
              "15    19341\n",
              "13    19010\n",
              "0     13869\n",
              "12    12336\n",
              "11    11586\n",
              "17    11566\n",
              "4     11440\n",
              "24    10859\n",
              "22    10784\n",
              "3     10134\n",
              "1      8668\n",
              "9      8493\n",
              "7      7218\n",
              "23     6272\n",
              "25     6076\n",
              "16     5812\n",
              "6      5762\n",
              "10     5603\n",
              "21     4182\n",
              "5      1163\n",
              "8      1120\n",
              "Name: 0, dtype: int64"
            ]
          },
          "metadata": {},
          "execution_count": 5
        }
      ]
    },
    {
      "cell_type": "code",
      "source": [
        "row1 = Handwrittendata.iloc[16290,:].values\n",
        "\n",
        "row1 = row1[0:784]\n",
        "\n",
        "print(row1)\n",
        "print(type(row1))\n",
        "print(row1.shape)"
      ],
      "metadata": {
        "id": "EMlNOB450XHf",
        "colab": {
          "base_uri": "https://localhost:8080/"
        },
        "outputId": "ffef13e2-103f-424a-ca70-7f49274734f9"
      },
      "execution_count": 6,
      "outputs": [
        {
          "output_type": "stream",
          "name": "stdout",
          "text": [
            "[  1   0   0   0   0   0   0   0   0   0   0   0   0   0   0   0   0   0   0   0   0   0   0   0   0   0   0   0   0   0   0   0   0   0   0   0   0   0\n",
            "   0   0   0   0   0   0   0   0   0   0   0   0   0   0   0   0   0   0   0   0   0   0   0   0   0   0   0   0   0   0   0   0   0   0   0   0   0   0\n",
            "   0   0   0   0   0   0   0   0   0   0   0   0   0   0   0   0   0   0   0   0   0   0   0   0   0   0   0   0   0   0   0   0   0   0   0   0   0   0\n",
            "   0   0   0   0   0   0   0   0   0   0   0   0   0   0   0   0   0   0   0   0  20 114 224   0   0   0   0   0   0   0   0   0   0   0   0   0   0   0\n",
            "   0   0   0   0   0   0   0   0  10  87 188 226 255   0   0   0   0   0   0   0   0   0   0   0   0   0   0   0   0   0   0   0   0   0   0  44 167 177\n",
            "  51 223 137   0   0   0   0   0   0   0   0   0   0   0   0   0   0   0   0   0   0   0   0   5 113 206 118   0  83 255  20   0   0   0   0   0   0   0\n",
            "   0   0   0   0   0   0   0   0   0   0   0   0  25 142 206  44   0   0 191 102   1   0   0   0   0   0   0   0   0   0   0   0   0   0   0   0   0   0\n",
            "   0  32 189 178  18   0   5 181 169  12   0   0   0   0   0   0   0   0   0   0   0   0   0   0   0   0   0   0  37 233 157   0   0   0 137 230  15   0\n",
            "   0   0   0   0   0   0   0   0   0   0   0   0   0   0   0   0   0  60 237 146   4   0   7 109 237  78   0   0   0   0   0   0   0   0   0   0   0   0\n",
            "   0   0   0   0   0   0 113 255 196   0   0   5 167 255 255  64   0   0   0   0   0   0   0   0   0   0   0   0   0   0   0   0   0 110 243 243  27   0\n",
            "  74 191 243 175 249 157   0   0   0   0   0   0   0   0   0   0   0   0   0   0   0   0  86 243 245  49   0  94 249 243  61   4 237  78   0   0   0   0\n",
            "   0   0   0   0   0   0   0   0   0   0   0  53 222 219  31   0   0  53 143  39   0  69 255  69   0   0   0   0   0   0   0   0   0   0   0   0   0   0\n",
            "  39 240 248  47   0   0   0   0   0   0   0 137 201   0   0   0   0   0   0   0   0   0   0   0   0   0   0  15 172 250  64   0   0   0   0   0   0   0\n",
            "  54 240  78   0   0   0   0   0   0   0   0   0   0   0   0 129  18 132 255 137   0   0   0   0   0   0   0  37 228 102   1   0   0   0   0   0   0   0\n",
            "   0   0   0   0   0 172 218 243 221  25   0   0   0   0   0   0  64 205 129   0   0   0   0   0   0   0   0   0   0   0   0   0   0  98 255 255  98   0\n",
            "   0   0   0   0   5  93 240 132   0   0   0   0   0   0   0   0   0   0   0   0   0   0   0  98 255 255 152  15   0   0   0  54 147 244  94   0   0   0\n",
            "   0   0   0   0   0   0   0   0   0   0   0   0   0  49 230 191 250 227 143 143 192 250 154  37   0   0   0   0   0   0   0   0   0   0   0   0   0   0\n",
            "   0   0   0   0  10   0  39 151 237 255 157  64   0   0   0   0   0   0   0   0   0   0   0   0   0   0   0   0   0   0   0   0   0   0   0   0   0   0\n",
            "   0   0   0   0   0   0   0   0   0   0   0   0   0   0   0   0   0   0   0   0   0   0   0   0   0   0   0   0   0   0   0   0   0   0   0   0   0   0\n",
            "   0   0   0   0   0   0   0   0   0   0   0   0   0   0   0   0   0   0   0   0   0   0   0   0   0   0   0   0   0   0   0   0   0   0   0   0   0   0\n",
            "   0   0   0   0   0   0   0   0   0   0   0   0   0   0   0   0   0   0   0   0   0   0   0   0]\n",
            "<class 'numpy.ndarray'>\n",
            "(784,)\n"
          ]
        }
      ]
    },
    {
      "cell_type": "code",
      "source": [
        "mat1 = np.resize(row1,(28,28))"
      ],
      "metadata": {
        "id": "Rtp0AT500fE9"
      },
      "execution_count": 7,
      "outputs": []
    },
    {
      "cell_type": "code",
      "source": [
        "print(mat1)"
      ],
      "metadata": {
        "id": "CtpLZUYy0l7j",
        "colab": {
          "base_uri": "https://localhost:8080/"
        },
        "outputId": "ab1c0228-f852-45d6-fb3a-c77034863730"
      },
      "execution_count": 8,
      "outputs": [
        {
          "output_type": "stream",
          "name": "stdout",
          "text": [
            "[[  1   0   0   0   0   0   0   0   0   0   0   0   0   0   0   0   0   0   0   0   0   0   0   0   0   0   0   0]\n",
            " [  0   0   0   0   0   0   0   0   0   0   0   0   0   0   0   0   0   0   0   0   0   0   0   0   0   0   0   0]\n",
            " [  0   0   0   0   0   0   0   0   0   0   0   0   0   0   0   0   0   0   0   0   0   0   0   0   0   0   0   0]\n",
            " [  0   0   0   0   0   0   0   0   0   0   0   0   0   0   0   0   0   0   0   0   0   0   0   0   0   0   0   0]\n",
            " [  0   0   0   0   0   0   0   0   0   0   0   0   0   0   0   0   0   0   0   0   0   0  20 114 224   0   0   0]\n",
            " [  0   0   0   0   0   0   0   0   0   0   0   0   0   0   0   0   0   0   0   0  10  87 188 226 255   0   0   0]\n",
            " [  0   0   0   0   0   0   0   0   0   0   0   0   0   0   0   0   0   0   0  44 167 177  51 223 137   0   0   0]\n",
            " [  0   0   0   0   0   0   0   0   0   0   0   0   0   0   0   0   0   5 113 206 118   0  83 255  20   0   0   0]\n",
            " [  0   0   0   0   0   0   0   0   0   0   0   0   0   0   0   0  25 142 206  44   0   0 191 102   1   0   0   0]\n",
            " [  0   0   0   0   0   0   0   0   0   0   0   0   0   0   0  32 189 178  18   0   5 181 169  12   0   0   0   0]\n",
            " [  0   0   0   0   0   0   0   0   0   0   0   0   0   0  37 233 157   0   0   0 137 230  15   0   0   0   0   0]\n",
            " [  0   0   0   0   0   0   0   0   0   0   0   0   0  60 237 146   4   0   7 109 237  78   0   0   0   0   0   0]\n",
            " [  0   0   0   0   0   0   0   0   0   0   0   0 113 255 196   0   0   5 167 255 255  64   0   0   0   0   0   0]\n",
            " [  0   0   0   0   0   0   0   0   0   0   0 110 243 243  27   0  74 191 243 175 249 157   0   0   0   0   0   0]\n",
            " [  0   0   0   0   0   0   0   0   0   0  86 243 245  49   0  94 249 243  61   4 237  78   0   0   0   0   0   0]\n",
            " [  0   0   0   0   0   0   0   0   0  53 222 219  31   0   0  53 143  39   0  69 255  69   0   0   0   0   0   0]\n",
            " [  0   0   0   0   0   0   0   0  39 240 248  47   0   0   0   0   0   0   0 137 201   0   0   0   0   0   0   0]\n",
            " [  0   0   0   0   0   0   0  15 172 250  64   0   0   0   0   0   0   0  54 240  78   0   0   0   0   0   0   0]\n",
            " [  0   0   0   0   0 129  18 132 255 137   0   0   0   0   0   0   0  37 228 102   1   0   0   0   0   0   0   0]\n",
            " [  0   0   0   0   0 172 218 243 221  25   0   0   0   0   0   0  64 205 129   0   0   0   0   0   0   0   0   0]\n",
            " [  0   0   0   0   0  98 255 255  98   0   0   0   0   0   5  93 240 132   0   0   0   0   0   0   0   0   0   0]\n",
            " [  0   0   0   0   0  98 255 255 152  15   0   0   0  54 147 244  94   0   0   0   0   0   0   0   0   0   0   0]\n",
            " [  0   0   0   0   0  49 230 191 250 227 143 143 192 250 154  37   0   0   0   0   0   0   0   0   0   0   0   0]\n",
            " [  0   0   0   0   0   0  10   0  39 151 237 255 157  64   0   0   0   0   0   0   0   0   0   0   0   0   0   0]\n",
            " [  0   0   0   0   0   0   0   0   0   0   0   0   0   0   0   0   0   0   0   0   0   0   0   0   0   0   0   0]\n",
            " [  0   0   0   0   0   0   0   0   0   0   0   0   0   0   0   0   0   0   0   0   0   0   0   0   0   0   0   0]\n",
            " [  0   0   0   0   0   0   0   0   0   0   0   0   0   0   0   0   0   0   0   0   0   0   0   0   0   0   0   0]\n",
            " [  0   0   0   0   0   0   0   0   0   0   0   0   0   0   0   0   0   0   0   0   0   0   0   0   0   0   0   0]]\n"
          ]
        }
      ]
    },
    {
      "cell_type": "code",
      "source": [
        "im = Image.fromarray(mat1.astype(np.uint8))"
      ],
      "metadata": {
        "id": "qFm2nEdg0puu"
      },
      "execution_count": 9,
      "outputs": []
    },
    {
      "cell_type": "code",
      "source": [
        "im"
      ],
      "metadata": {
        "id": "EtnJFBcE0tJd",
        "colab": {
          "base_uri": "https://localhost:8080/",
          "height": 45
        },
        "outputId": "ff5c3203-f4c1-4bab-e4ae-21a7aa55e208"
      },
      "execution_count": 10,
      "outputs": [
        {
          "output_type": "execute_result",
          "data": {
            "text/plain": [
              "<PIL.Image.Image image mode=L size=28x28 at 0x7FB2A9A3D1D0>"
            ],
            "image/png": "[encoded data removed]"
          },
          "metadata": {},
          "execution_count": 10
        }
      ]
    },
    {
      "cell_type": "code",
      "source": [
        "#Load other modules\n",
        "import matplotlib.pyplot as plt\n",
        "import seaborn as sns\n",
        "from sklearn.ensemble import RandomForestClassifier  #Random Forest algorithm\n",
        "from sklearn.model_selection import train_test_split\n",
        "from sklearn.metrics import classification_report, confusion_matrix\n",
        "from sklearn.model_selection import RandomizedSearchCV, GridSearchCV \n",
        "from sklearn.model_selection import cross_val_score"
      ],
      "metadata": {
        "id": "csxXyy_40O1u"
      },
      "execution_count": 11,
      "outputs": []
    },
    {
      "cell_type": "code",
      "source": [
        "#load the datasets\n",
        "import pandas as pd\n",
        "\n",
        "train_file =\"/content/drive/Shareddrives/CMPE 255 - Team Project/train.csv\"\n",
        "train= pd.read_csv(train_file, header = 0)\n",
        "\n",
        "#train = pd.read_csv(\"train.csv\", header= None, na_values=\"?\")\n",
        "\n",
        "#test = pd.read_csv(\"test.csv\", header= None, na_values=\"?\")\n",
        "\n",
        "#train = pd.read_csv(\"/content/A_Z Handwritten Data.csv\", header= None, na_values=\"?\")\n",
        "\n",
        "#test = pd.read_csv(\"/content/A_Z Handwritten Data.csv\", header=None, na_values=\"?\")"
      ],
      "metadata": {
        "id": "2uZNcgkh0YJU"
      },
      "execution_count": 12,
      "outputs": []
    },
    {
      "cell_type": "code",
      "source": [
        "#check few rows\n",
        "train.head()"
      ],
      "metadata": {
        "id": "A60vaqy30wos",
        "colab": {
          "base_uri": "https://localhost:8080/",
          "height": 299
        },
        "outputId": "b63bcd30-3dfe-480c-b94a-455b71265690"
      },
      "execution_count": 13,
      "outputs": [
        {
          "output_type": "execute_result",
          "data": {
            "text/plain": [
              "    0  0.1  0.2  0.3  0.4  0.5  0.6  0.7  0.8  0.9  ...  0.639  0.640  0.641  \\\n",
              "0   2    0    0    0    0    0    0    0    0    0  ...      0      0      0   \n",
              "1  14    0    0    0    0    0    0    0    0    0  ...      0      0      0   \n",
              "2  24    0    0    0    0    0    0    0    0    0  ...      0      0      0   \n",
              "3  14    0    0    0    0    0    0    0    0    0  ...      0      0      0   \n",
              "4  16    0    0    0    0    0    0    0    0    0  ...      0      0      0   \n",
              "\n",
              "   0.642  0.643  0.644  0.645  0.646  0.647  0.648  \n",
              "0      0      0      0      0      0      0      0  \n",
              "1      0      0      0      0      0      0      0  \n",
              "2      0      0      0      0      0      0      0  \n",
              "3      0      0      0      0      0      0      0  \n",
              "4      0      0      0      0      0      0      0  \n",
              "\n",
              "[5 rows x 785 columns]"
            ],
            "text/html": [
              "\n",
              "  <div id=\"df-a8355e3a-a547-4aa5-8871-2bb54c967dd6\">\n",
              "    <div class=\"colab-df-container\">\n",
              "      <div>\n",
              "<style scoped>\n",
              "    .dataframe tbody tr th:only-of-type {\n",
              "        vertical-align: middle;\n",
              "    }\n",
              "\n",
              "    .dataframe tbody tr th {\n",
              "        vertical-align: top;\n",
              "    }\n",
              "\n",
              "    .dataframe thead th {\n",
              "        text-align: right;\n",
              "    }\n",
              "</style>\n",
              "<table border=\"1\" class=\"dataframe\">\n",
              "  <thead>\n",
              "    <tr style=\"text-align: right;\">\n",
              "      <th></th>\n",
              "      <th>0</th>\n",
              "      <th>0.1</th>\n",
              "      <th>0.2</th>\n",
              "      <th>0.3</th>\n",
              "      <th>0.4</th>\n",
              "      <th>0.5</th>\n",
              "      <th>0.6</th>\n",
              "      <th>0.7</th>\n",
              "      <th>0.8</th>\n",
              "      <th>0.9</th>\n",
              "      <th>...</th>\n",
              "      <th>0.639</th>\n",
              "      <th>0.640</th>\n",
              "      <th>0.641</th>\n",
              "      <th>0.642</th>\n",
              "      <th>0.643</th>\n",
              "      <th>0.644</th>\n",
              "      <th>0.645</th>\n",
              "      <th>0.646</th>\n",
              "      <th>0.647</th>\n",
              "      <th>0.648</th>\n",
              "    </tr>\n",
              "  </thead>\n",
              "  <tbody>\n",
              "    <tr>\n",
              "      <th>0</th>\n",
              "      <td>2</td>\n",
              "      <td>0</td>\n",
              "      <td>0</td>\n",
              "      <td>0</td>\n",
              "      <td>0</td>\n",
              "      <td>0</td>\n",
              "      <td>0</td>\n",
              "      <td>0</td>\n",
              "      <td>0</td>\n",
              "      <td>0</td>\n",
              "      <td>...</td>\n",
              "      <td>0</td>\n",
              "      <td>0</td>\n",
              "      <td>0</td>\n",
              "      <td>0</td>\n",
              "      <td>0</td>\n",
              "      <td>0</td>\n",
              "      <td>0</td>\n",
              "      <td>0</td>\n",
              "      <td>0</td>\n",
              "      <td>0</td>\n",
              "    </tr>\n",
              "    <tr>\n",
              "      <th>1</th>\n",
              "      <td>14</td>\n",
              "      <td>0</td>\n",
              "      <td>0</td>\n",
              "      <td>0</td>\n",
              "      <td>0</td>\n",
              "      <td>0</td>\n",
              "      <td>0</td>\n",
              "      <td>0</td>\n",
              "      <td>0</td>\n",
              "      <td>0</td>\n",
              "      <td>...</td>\n",
              "      <td>0</td>\n",
              "      <td>0</td>\n",
              "      <td>0</td>\n",
              "      <td>0</td>\n",
              "      <td>0</td>\n",
              "      <td>0</td>\n",
              "      <td>0</td>\n",
              "      <td>0</td>\n",
              "      <td>0</td>\n",
              "      <td>0</td>\n",
              "    </tr>\n",
              "    <tr>\n",
              "      <th>2</th>\n",
              "      <td>24</td>\n",
              "      <td>0</td>\n",
              "      <td>0</td>\n",
              "      <td>0</td>\n",
              "      <td>0</td>\n",
              "      <td>0</td>\n",
              "      <td>0</td>\n",
              "      <td>0</td>\n",
              "      <td>0</td>\n",
              "      <td>0</td>\n",
              "      <td>...</td>\n",
              "      <td>0</td>\n",
              "      <td>0</td>\n",
              "      <td>0</td>\n",
              "      <td>0</td>\n",
              "      <td>0</td>\n",
              "      <td>0</td>\n",
              "      <td>0</td>\n",
              "      <td>0</td>\n",
              "      <td>0</td>\n",
              "      <td>0</td>\n",
              "    </tr>\n",
              "    <tr>\n",
              "      <th>3</th>\n",
              "      <td>14</td>\n",
              "      <td>0</td>\n",
              "      <td>0</td>\n",
              "      <td>0</td>\n",
              "      <td>0</td>\n",
              "      <td>0</td>\n",
              "      <td>0</td>\n",
              "      <td>0</td>\n",
              "      <td>0</td>\n",
              "      <td>0</td>\n",
              "      <td>...</td>\n",
              "      <td>0</td>\n",
              "      <td>0</td>\n",
              "      <td>0</td>\n",
              "      <td>0</td>\n",
              "      <td>0</td>\n",
              "      <td>0</td>\n",
              "      <td>0</td>\n",
              "      <td>0</td>\n",
              "      <td>0</td>\n",
              "      <td>0</td>\n",
              "    </tr>\n",
              "    <tr>\n",
              "      <th>4</th>\n",
              "      <td>16</td>\n",
              "      <td>0</td>\n",
              "      <td>0</td>\n",
              "      <td>0</td>\n",
              "      <td>0</td>\n",
              "      <td>0</td>\n",
              "      <td>0</td>\n",
              "      <td>0</td>\n",
              "      <td>0</td>\n",
              "      <td>0</td>\n",
              "      <td>...</td>\n",
              "      <td>0</td>\n",
              "      <td>0</td>\n",
              "      <td>0</td>\n",
              "      <td>0</td>\n",
              "      <td>0</td>\n",
              "      <td>0</td>\n",
              "      <td>0</td>\n",
              "      <td>0</td>\n",
              "      <td>0</td>\n",
              "      <td>0</td>\n",
              "    </tr>\n",
              "  </tbody>\n",
              "</table>\n",
              "<p>5 rows × 785 columns</p>\n",
              "</div>\n",
              "      <button class=\"colab-df-convert\" onclick=\"convertToInteractive('df-a8355e3a-a547-4aa5-8871-2bb54c967dd6')\"\n",
              "              title=\"Convert this dataframe to an interactive table.\"\n",
              "              style=\"display:none;\">\n",
              "        \n",
              "  <svg xmlns=\"http://www.w3.org/2000/svg\" height=\"24px\"viewBox=\"0 0 24 24\"\n",
              "       width=\"24px\">\n",
              "    <path d=\"M0 0h24v24H0V0z\" fill=\"none\"/>\n",
              "    <path d=\"M18.56 5.44l.94 2.06.94-2.06 2.06-.94-2.06-.94-.94-2.06-.94 2.06-2.06.94zm-11 1L8.5 8.5l.94-2.06 2.06-.94-2.06-.94L8.5 2.5l-.94 2.06-2.06.94zm10 10l.94 2.06.94-2.06 2.06-.94-2.06-.94-.94-2.06-.94 2.06-2.06.94z\"/><path d=\"M17.41 7.96l-1.37-1.37c-.4-.4-.92-.59-1.43-.59-.52 0-1.04.2-1.43.59L10.3 9.45l-7.72 7.72c-.78.78-.78 2.05 0 2.83L4 21.41c.39.39.9.59 1.41.59.51 0 1.02-.2 1.41-.59l7.78-7.78 2.81-2.81c.8-.78.8-2.07 0-2.86zM5.41 20L4 18.59l7.72-7.72 1.47 1.35L5.41 20z\"/>\n",
              "  </svg>\n",
              "      </button>\n",
              "      \n",
              "  <style>\n",
              "    .colab-df-container {\n",
              "      display:flex;\n",
              "      flex-wrap:wrap;\n",
              "      gap: 12px;\n",
              "    }\n",
              "\n",
              "    .colab-df-convert {\n",
              "      background-color: #E8F0FE;\n",
              "      border: none;\n",
              "      border-radius: 50%;\n",
              "      cursor: pointer;\n",
              "      display: none;\n",
              "      fill: #1967D2;\n",
              "      height: 32px;\n",
              "      padding: 0 0 0 0;\n",
              "      width: 32px;\n",
              "    }\n",
              "\n",
              "    .colab-df-convert:hover {\n",
              "      background-color: #E2EBFA;\n",
              "      box-shadow: 0px 1px 2px rgba(60, 64, 67, 0.3), 0px 1px 3px 1px rgba(60, 64, 67, 0.15);\n",
              "      fill: #174EA6;\n",
              "    }\n",
              "\n",
              "    [theme=dark] .colab-df-convert {\n",
              "      background-color: #3B4455;\n",
              "      fill: #D2E3FC;\n",
              "    }\n",
              "\n",
              "    [theme=dark] .colab-df-convert:hover {\n",
              "      background-color: #434B5C;\n",
              "      box-shadow: 0px 1px 3px 1px rgba(0, 0, 0, 0.15);\n",
              "      filter: drop-shadow(0px 1px 2px rgba(0, 0, 0, 0.3));\n",
              "      fill: #FFFFFF;\n",
              "    }\n",
              "  </style>\n",
              "\n",
              "      <script>\n",
              "        const buttonEl =\n",
              "          document.querySelector('#df-a8355e3a-a547-4aa5-8871-2bb54c967dd6 button.colab-df-convert');\n",
              "        buttonEl.style.display =\n",
              "          google.colab.kernel.accessAllowed ? 'block' : 'none';\n",
              "\n",
              "        async function convertToInteractive(key) {\n",
              "          const element = document.querySelector('#df-a8355e3a-a547-4aa5-8871-2bb54c967dd6');\n",
              "          const dataTable =\n",
              "            await google.colab.kernel.invokeFunction('convertToInteractive',\n",
              "                                                     [key], {});\n",
              "          if (!dataTable) return;\n",
              "\n",
              "          const docLinkHtml = 'Like what you see? Visit the ' +\n",
              "            '<a target=\"_blank\" href=https://colab.research.google.com/notebooks/data_table.ipynb>data table notebook</a>'\n",
              "            + ' to learn more about interactive tables.';\n",
              "          element.innerHTML = '';\n",
              "          dataTable['output_type'] = 'display_data';\n",
              "          await google.colab.output.renderOutput(dataTable, element);\n",
              "          const docLink = document.createElement('div');\n",
              "          docLink.innerHTML = docLinkHtml;\n",
              "          element.appendChild(docLink);\n",
              "        }\n",
              "      </script>\n",
              "    </div>\n",
              "  </div>\n",
              "  "
            ]
          },
          "metadata": {},
          "execution_count": 13
        }
      ]
    },
    {
      "cell_type": "code",
      "source": [
        "#train[0].value_counts()"
      ],
      "metadata": {
        "id": "_2MnMF_v25iy"
      },
      "execution_count": 14,
      "outputs": []
    },
    {
      "cell_type": "code",
      "source": [
        "#train[1].value_counts()"
      ],
      "metadata": {
        "id": "kmHXBM28KqSs"
      },
      "execution_count": 15,
      "outputs": []
    },
    {
      "cell_type": "code",
      "source": [
        "#Seperate the target and independant variables\n",
        "df_x=train.iloc[:,1:]\n",
        "df_y=train.iloc[:,0]"
      ],
      "metadata": {
        "id": "HROb--gN057C"
      },
      "execution_count": 16,
      "outputs": []
    },
    {
      "cell_type": "code",
      "source": [
        "def print_image(row, df):\n",
        "    temp=df.iloc[row,:].values\n",
        "    temp = temp.reshape(28,28).astype('uint8')\n",
        "    plt.imshow(temp)"
      ],
      "metadata": {
        "id": "sY4_-VHf09AC"
      },
      "execution_count": 17,
      "outputs": []
    },
    {
      "cell_type": "code",
      "source": [
        "print_image(1, df_x)"
      ],
      "metadata": {
        "id": "zubLjUBc0_Sy",
        "colab": {
          "base_uri": "https://localhost:8080/",
          "height": 265
        },
        "outputId": "e996744f-7620-4c8c-d747-f2bc26be9119"
      },
      "execution_count": 18,
      "outputs": [
        {
          "output_type": "display_data",
          "data": {
            "text/plain": [
              "<Figure size 432x288 with 1 Axes>"
            ],
            "image/png": "[encoded data removed]"
          },
          "metadata": {
            "needs_background": "light"
          }
        }
      ]
    },
    {
      "cell_type": "code",
      "source": [
        "#Check the frequency of each number\n",
        "df_y.value_counts().sort_index()"
      ],
      "metadata": {
        "id": "G79IuVzb1ElI",
        "colab": {
          "base_uri": "https://localhost:8080/"
        },
        "outputId": "833e697f-6faf-4479-a8c8-4b0b0b45519f"
      },
      "execution_count": 19,
      "outputs": [
        {
          "output_type": "execute_result",
          "data": {
            "text/plain": [
              "0     11074\n",
              "1      6968\n",
              "2     18705\n",
              "3      8058\n",
              "4      9234\n",
              "5       937\n",
              "6      4658\n",
              "7      5721\n",
              "8       900\n",
              "9      6817\n",
              "10     4460\n",
              "11     9301\n",
              "12     9835\n",
              "13    15156\n",
              "14    46266\n",
              "15    15577\n",
              "16     4602\n",
              "17     9196\n",
              "18    38778\n",
              "19    18003\n",
              "20    23198\n",
              "21     3311\n",
              "22     8657\n",
              "23     5028\n",
              "24     8665\n",
              "25     4855\n",
              "Name: 0, dtype: int64"
            ]
          },
          "metadata": {},
          "execution_count": 19
        }
      ]
    },
    {
      "cell_type": "code",
      "source": [
        "sns.countplot(df_y)"
      ],
      "metadata": {
        "id": "wS_RQwJd1LEN",
        "colab": {
          "base_uri": "https://localhost:8080/",
          "height": 352
        },
        "outputId": "5aea8f9a-8053-4b95-ad05-fc1ab67c2036"
      },
      "execution_count": 20,
      "outputs": [
        {
          "output_type": "stream",
          "name": "stderr",
          "text": [
            "/usr/local/lib/python3.7/dist-packages/seaborn/_decorators.py:43: FutureWarning: Pass the following variable as a keyword arg: x. From version 0.12, the only valid positional argument will be `data`, and passing other arguments without an explicit keyword will result in an error or misinterpretation.\n",
            "  FutureWarning\n"
          ]
        },
        {
          "output_type": "execute_result",
          "data": {
            "text/plain": [
              "<matplotlib.axes._subplots.AxesSubplot at 0x7fb29e0671d0>"
            ]
          },
          "metadata": {},
          "execution_count": 20
        },
        {
          "output_type": "display_data",
          "data": {
            "text/plain": [
              "<Figure size 432x288 with 1 Axes>"
            ],
            "image/png": "[encoded data removed]"
          },
          "metadata": {
            "needs_background": "light"
          }
        }
      ]
    },
    {
      "cell_type": "code",
      "source": [
        "import matplotlib.pyplot as plt\n",
        "import numpy as np\n",
        "import pandas as pd"
      ],
      "metadata": {
        "id": "CoGn3-rI1N0_"
      },
      "execution_count": 21,
      "outputs": []
    },
    {
      "cell_type": "code",
      "source": [
        "#Split the dataset\n",
        "X_train, X_test, y_train, y_test = train_test_split(df_x, df_y, test_size=0.3, random_state=0)\n",
        "print(X_train.shape)\n",
        "print(X_test.shape)\n",
        "len(X_train)\n",
        "len(X_test)"
      ],
      "metadata": {
        "id": "tWMFQ9Zr1wz0",
        "colab": {
          "base_uri": "https://localhost:8080/"
        },
        "outputId": "e7003b72-0a37-4d73-bb86-16a38a5e527b"
      },
      "execution_count": 22,
      "outputs": [
        {
          "output_type": "stream",
          "name": "stdout",
          "text": [
            "(208572, 784)\n",
            "(89388, 784)\n"
          ]
        },
        {
          "output_type": "execute_result",
          "data": {
            "text/plain": [
              "89388"
            ]
          },
          "metadata": {},
          "execution_count": 22
        }
      ]
    },
    {
      "cell_type": "code",
      "source": [
        "#training random Forest\n",
        "#removed y_train bcz we dont need label\n",
        "#iloc[:,1:] taking all the rows expect the label colum \n",
        "#X_train.iloc[:,0] contains only label colum \n",
        "#rf.fit(X_train.iloc[:,1:],X_train.iloc[:,0])\n",
        "rf= RandomForestClassifier(n_estimators=50)\n",
        "rf.fit(df_x,df_y)\n"
      ],
      "metadata": {
        "id": "X0Vk5RS4Q2u1",
        "colab": {
          "base_uri": "https://localhost:8080/"
        },
        "outputId": "53b3d125-3af4-43ac-c033-71fadb9f29f7"
      },
      "execution_count": 23,
      "outputs": [
        {
          "output_type": "execute_result",
          "data": {
            "text/plain": [
              "RandomForestClassifier(n_estimators=50)"
            ]
          },
          "metadata": {},
          "execution_count": 23
        }
      ]
    },
    {
      "cell_type": "code",
      "source": [
        "test_file =\"/content/drive/Shareddrives/CMPE 255 - Team Project/test.csv\"\n",
        "test= pd.read_csv(test_file, header = 0)\n"
      ],
      "metadata": {
        "id": "G0wRQhkgXdeb"
      },
      "execution_count": 24,
      "outputs": []
    },
    {
      "cell_type": "code",
      "source": [
        "test_df_x = test.iloc[:,1:]\n",
        "test_df_y = test.iloc[:,0]"
      ],
      "metadata": {
        "id": "OlVBE-5DY1hl"
      },
      "execution_count": 25,
      "outputs": []
    },
    {
      "cell_type": "code",
      "source": [
        "pred= rf.predict(test.iloc[:,1:])\n",
        "print(pred)\n",
        "\n",
        "#printing the label for comparision \n",
        "print(test.iloc[0,0])\n",
        "print (\"Classification Report\")\n",
        "\n",
        "#print(classification_report(y_test, pred))\n",
        "#print (\"Confusion Report\")\n",
        "#print(confusion_matrix(y_test, pred))"
      ],
      "metadata": {
        "id": "sO3M1erTS1ZU",
        "colab": {
          "base_uri": "https://localhost:8080/"
        },
        "outputId": "442388fc-d2c6-4f70-e376-bcf646c49681"
      },
      "execution_count": 26,
      "outputs": [
        {
          "output_type": "stream",
          "name": "stdout",
          "text": [
            "[17 14  2 ... 18 23 19]\n",
            "17\n",
            "Classification Report\n"
          ]
        }
      ]
    },
    {
      "cell_type": "code",
      "source": [
        "#pred.value_counts()"
      ],
      "metadata": {
        "id": "XXEdDZFKc1ty"
      },
      "execution_count": 28,
      "outputs": []
    },
    {
      "cell_type": "code",
      "source": [
        "rf.score(test_df_x,test_df_y)"
      ],
      "metadata": {
        "id": "shanpDLTYejA",
        "colab": {
          "base_uri": "https://localhost:8080/"
        },
        "outputId": "1b97f9e5-04b0-43d5-bc06-de133e32480f"
      },
      "execution_count": 29,
      "outputs": [
        {
          "output_type": "execute_result",
          "data": {
            "text/plain": [
              "0.9868304470398711"
            ]
          },
          "metadata": {},
          "execution_count": 29
        }
      ]
    },
    {
      "cell_type": "code",
      "source": [
        "alphabet = ['A','B','C','D','E','F','G','H','I','J','K','L','M','N','O','P','Q','R','S','T','U','V','W','X','Y','Z']\n",
        "\n",
        "print(classification_report(test_df_y, pred, target_names=alphabet))\n",
        "\n",
        "#print(classification_report(test_df_y, pred, labels = ['A','B','C','D','E','F','G','H','I','J','K','L','M','N','O','P','Q','R','S','T','U','V','W','X','Y','Z']))\n"
      ],
      "metadata": {
        "id": "4ZngcyyGUHI4",
        "colab": {
          "base_uri": "https://localhost:8080/"
        },
        "outputId": "4d35b3e8-8481-4840-8621-642e507ccbea"
      },
      "execution_count": 30,
      "outputs": [
        {
          "output_type": "stream",
          "name": "stdout",
          "text": [
            "              precision    recall  f1-score   support\n",
            "\n",
            "           A       0.97      0.99      0.98      2795\n",
            "           B       0.98      0.97      0.98      1700\n",
            "           C       0.99      0.99      0.99      4704\n",
            "           D       0.97      0.97      0.97      2076\n",
            "           E       0.99      0.99      0.99      2206\n",
            "           F       1.00      0.94      0.97       226\n",
            "           G       0.99      0.97      0.98      1104\n",
            "           H       0.98      0.95      0.97      1497\n",
            "           I       1.00      0.93      0.96       220\n",
            "           J       0.99      0.98      0.98      1676\n",
            "           K       0.97      0.96      0.97      1143\n",
            "           L       0.99      0.99      0.99      2285\n",
            "           M       0.98      0.98      0.98      2501\n",
            "           N       0.97      0.99      0.98      3854\n",
            "           O       0.99      1.00      0.99     11559\n",
            "           P       0.99      0.99      0.99      3764\n",
            "           Q       0.99      0.95      0.97      1210\n",
            "           R       0.99      0.97      0.98      2370\n",
            "           S       0.99      1.00      0.99      9641\n",
            "           T       0.99      1.00      1.00      4492\n",
            "           U       0.99      0.99      0.99      5810\n",
            "           V       0.99      0.98      0.99       871\n",
            "           W       0.99      0.97      0.98      2127\n",
            "           X       0.97      0.97      0.97      1244\n",
            "           Y       0.99      0.99      0.99      2194\n",
            "           Z       0.99      0.97      0.98      1221\n",
            "\n",
            "    accuracy                           0.99     74490\n",
            "   macro avg       0.99      0.98      0.98     74490\n",
            "weighted avg       0.99      0.99      0.99     74490\n",
            "\n"
          ]
        }
      ]
    },
    {
      "cell_type": "code",
      "source": [
        "print (\"Confusion Report\")\n",
        "print(confusion_matrix(test_df_y, pred))"
      ],
      "metadata": {
        "id": "a_XQZKGUbpcY",
        "colab": {
          "base_uri": "https://localhost:8080/"
        },
        "outputId": "24a551f7-72b0-4a45-a92d-7ccb9f84152b"
      },
      "execution_count": 31,
      "outputs": [
        {
          "output_type": "stream",
          "name": "stdout",
          "text": [
            "Confusion Report\n",
            "[[ 2770     4     1     0     1     0     0     3     0     0     2     0     6     1     1     0     0     3     1     0     1     0     0     1     0\n",
            "      0]\n",
            " [    6  1655     0    11     2     0     4     0     0     0     1     0     1     0     8     1     0     0     9     0     0     0     0     0     2\n",
            "      0]\n",
            " [    0     2  4672     0     0     0     0     0     0     0     0     5     0     2    14     1     0     4     0     0     0     0     0     0     0\n",
            "      4]\n",
            " [    0     0     0  2008     0     0     0     0     0     0     0     0     1     0    58     1     2     0     2     0     1     0     3     0     0\n",
            "      0]\n",
            " [    2     1    10     0  2176     0     5     0     0     0     0     3     0     0     0     1     0     0     7     1     0     0     0     0     0\n",
            "      0]\n",
            " [    0     0     0     0     0   213     0     0     0     0     0     0     0     0     0     8     0     0     2     3     0     0     0     0     0\n",
            "      0]\n",
            " [    0     4     0     0     4     0  1071     1     0     0     0     1     3     3     2     0     4     0    11     0     0     0     0     0     0\n",
            "      0]\n",
            " [   24     2     0     0     0     0     0  1421     0     1     1     0    11    27     0     2     0     1     0     0     2     0     1     0     4\n",
            "      0]\n",
            " [    0     0     0     0     2     0     0     0   205     4     0     0     0     0     0     0     0     0     3     2     0     0     0     1     1\n",
            "      2]\n",
            " [    0     0     0     4     0     0     0     0     0  1647     0     0     0     0     4     0     0     0    13     8     0     0     0     0     0\n",
            "      0]\n",
            " [    1     1     2     0     2     0     0     1     0     0  1100     6     4     4     0     2     0     5     2     0     3     0     0     9     1\n",
            "      0]\n",
            " [    0     0     7     2     0     0     0     0     0     0     0  2266     0     2     0     0     0     0     1     0     1     0     0     6     0\n",
            "      0]\n",
            " [   15     0     0     1     0     0     0    13     0     0     0     0  2442    23     0     0     0     0     0     0     4     0     3     0     0\n",
            "      0]\n",
            " [    9     2     0     0     0     0     0     5     0     0     0     0     9  3811     4     0     0     0     0     0     7     2     4     1     0\n",
            "      0]\n",
            " [    0     0     0    20     2     0     0     0     0     0     0     0     2     0 11531     0     0     0     2     0     2     0     0     0     0\n",
            "      0]\n",
            " [    5     0     0     9     0     0     0     0     0     0     2     0     0     2     0  3745     1     0     0     0     0     0     0     0     0\n",
            "      0]\n",
            " [    0     2     2     0     0     0     2     0     0     0     0     0     2     0    34     6  1149     3     0     0    10     0     0     0     0\n",
            "      0]\n",
            " [   16     0     3     2     1     0     0     0     0     0     9     0     4     0     4     5     8  2306     0     1     2     0     1     7     0\n",
            "      1]\n",
            " [    0     6     1     1     2     0     2     0     0     9     0     0     0     0     9     2     2     2  9599     0     4     0     2     0     0\n",
            "      0]\n",
            " [    0     0     0     1     0     0     0     0     0     0     2     0     0     0     0     2     0     0     3  4483     0     0     0     0     1\n",
            "      0]\n",
            " [    0     0     2     2     0     0     0     0     0     0     0     2     6     6     8     0     0     3     0     0  5773     2     2     0     4\n",
            "      0]\n",
            " [    0     0     0     0     0     0     0     0     0     0     0     0     0     1     0     1     0     0     0     0     7   857     0     0     5\n",
            "      0]\n",
            " [    0     0     0     0     0     0     0     2     0     0     3     0     2    34     4     0     0     0     0     2    19     0  2061     0     0\n",
            "      0]\n",
            " [    5     2     0     0     0     0     0     1     0     0    16     5     1     0     0     0     0     1     1     0     0     0     0  1206     6\n",
            "      0]\n",
            " [    1     2     0     0     0     0     0     0     0     8     0     0     0     0     0     3     0     0     0    10     4     2     0     2  2162\n",
            "      0]\n",
            " [    0     4     3     1    14     0     0     0     0     0     0     0     1     0     0     4     0     5     2     2     0     0     0     5     0\n",
            "   1180]]\n"
          ]
        }
      ]
    }
  ]
}