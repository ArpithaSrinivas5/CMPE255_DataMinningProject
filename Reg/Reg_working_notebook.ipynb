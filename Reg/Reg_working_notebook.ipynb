{
  "cells": [
    {
      "cell_type": "code",
      "source": [
        "import sys\n",
        "print ('Running in colab:', 'google.colab' in sys.modules)\n",
        "if 'google.colab' in sys.modules:\n",
        "  folderloc = \"drive/MyDrive/CMPE 255/\"\n",
        "else:\n",
        "  # folderloc = \"C:\\\\Users\\\\Reg\\\\Documents\\\\SJSU\\\\FALL_2022\\\\\"\n",
        "  folderloc = \"C:\\\\Users\\\\rgana\\\\Documents\\\\SJSU\\\\FALL_2022\\\\\"\n"
      ],
      "metadata": {
        "colab": {
          "base_uri": "https://localhost:8080/"
        },
        "id": "7WZQXW9DkqAm",
        "outputId": "3d6841cf-8d23-485f-d997-516058c2eb43"
      },
      "execution_count": null,
      "outputs": [
        {
          "output_type": "stream",
          "name": "stdout",
          "text": [
            "Running in colab: False\n"
          ]
        }
      ]
    },
    {
      "cell_type": "markdown",
      "source": [
        "#Import File"
      ],
      "metadata": {
        "id": "7HeBagnRxXoG"
      }
    },
    {
      "cell_type": "code",
      "execution_count": null,
      "metadata": {
        "id": "_Je0dP8YslYV"
      },
      "outputs": [],
      "source": [
        "import pandas as pd\n",
        "import numpy as np\n",
        "from sklearn import model_selection\n",
        "from PIL import Image\n",
        "from sklearn.neighbors import KNeighborsClassifier,RadiusNeighborsClassifier\n",
        "from sklearn import tree\n",
        "from sklearn import ensemble\n",
        "import time\n",
        "np.set_printoptions(linewidth=115)"
      ]
    },
    {
      "cell_type": "code",
      "execution_count": null,
      "metadata": {
        "id": "Ev0vqj0mwchX"
      },
      "outputs": [],
      "source": [
        "input_file = folderloc + \"A_Z Handwritten Data.csv\"\n",
        "df = pd.read_csv(input_file, header = 0)\n",
        "# backup_df = df.copy()"
      ]
    },
    {
      "cell_type": "code",
      "source": [
        "import multiprocessing\n",
        "multiprocessing.cpu_count()"
      ],
      "metadata": {
        "colab": {
          "base_uri": "https://localhost:8080/"
        },
        "id": "CiYWS7YMvHO_",
        "outputId": "e8e8872d-5955-4d3c-dc99-43cbf8b5969d"
      },
      "execution_count": null,
      "outputs": [
        {
          "output_type": "execute_result",
          "data": {
            "text/plain": [
              "12"
            ]
          },
          "metadata": {},
          "execution_count": 8
        }
      ]
    },
    {
      "cell_type": "code",
      "source": [
        "#code split\n",
        "# train, test = model_selection.train_test_split(df, test_size=0.20)\n",
        "# train.to_csv(folderloc+'train.csv',index = False)\n",
        "# test.to_csv(folderloc+'test.csv', index = False)\n"
      ],
      "metadata": {
        "id": "EJO8Fc_5QO50",
        "colab": {
          "base_uri": "https://localhost:8080/"
        },
        "outputId": "f047da04-378c-44fa-d010-149fd43343ca"
      },
      "execution_count": null,
      "outputs": [
        {
          "output_type": "stream",
          "name": "stdout",
          "text": [
            "<bound method NDFrame.head of          0  0.1  0.2  0.3  0.4  0.5  0.6  0.7  0.8  0.9  ...  0.639  0.640  \\\n",
            "0        0    0    0    0    0    0    0    0    0    0  ...      0      0   \n",
            "1        0    0    0    0    0    0    0    0    0    0  ...      0      0   \n",
            "2        0    0    0    0    0    0    0    0    0    0  ...      0      0   \n",
            "3        0    0    0    0    0    0    0    0    0    0  ...      0      0   \n",
            "4        0    0    0    0    0    0    0    0    0    0  ...      0      0   \n",
            "...     ..  ...  ...  ...  ...  ...  ...  ...  ...  ...  ...    ...    ...   \n",
            "372445  25    0    0    0    0    0    0    0    0    0  ...      0      0   \n",
            "372446  25    0    0    0    0    0    0    0    0    0  ...      0      0   \n",
            "372447  25    0    0    0    0    0    0    0    0    0  ...      0      0   \n",
            "372448  25    0    0    0    0    0    0    0    0    0  ...      0      0   \n",
            "372449  25    0    0    0    0    0    0    0    0    0  ...      0      0   \n",
            "\n",
            "        0.641  0.642  0.643  0.644  0.645  0.646  0.647  0.648  \n",
            "0           0      0      0      0      0      0      0      0  \n",
            "1           0      0      0      0      0      0      0      0  \n",
            "2           0      0      0      0      0      0      0      0  \n",
            "3           0      0      0      0      0      0      0      0  \n",
            "4           0      0      0      0      0      0      0      0  \n",
            "...       ...    ...    ...    ...    ...    ...    ...    ...  \n",
            "372445      0      0      0      0      0      0      0      0  \n",
            "372446      0      0      0      0      0      0      0      0  \n",
            "372447      0      0      0      0      0      0      0      0  \n",
            "372448      0      0      0      0      0      0      0      0  \n",
            "372449      0      0      0      0      0      0      0      0  \n",
            "\n",
            "[372450 rows x 785 columns]>\n"
          ]
        }
      ]
    },
    {
      "cell_type": "markdown",
      "source": [
        "## Stratified Code Split"
      ],
      "metadata": {
        "id": "pjbJLWMzEv0P"
      }
    },
    {
      "cell_type": "code",
      "source": [
        "#stratified code split\n",
        "df_data = df.iloc[:,1:].values\n",
        "df_class = df.iloc[:,0].values\n",
        "#n_splits is how many times the for loop for .split will run\n",
        "#each split is independent of each other and will generate indices needed to make the train and test sets\n",
        "## This is useful for rerunning tests/models with different train/test set combinations\n",
        "#the train and test set will have the same distributions of labels(classes/features/etc) from the original dataset\n",
        "splitter = model_selection.StratifiedShuffleSplit(n_splits=1,test_size=0.2)\n",
        "for train_ids, test_ids in splitter.split(df_data, df_class):\n",
        "  df_train = df.iloc[train_ids,:]\n",
        "  df_test = df.iloc[test_ids,:]\n",
        "  # X_train, y_train = df_data[train_ids], df_class[train_ids]\n",
        "  # X_test, y_test = df_data[test_ids], df_class[test_ids]"
      ],
      "metadata": {
        "id": "7gtTbsC4LX2I"
      },
      "execution_count": null,
      "outputs": []
    },
    {
      "cell_type": "markdown",
      "source": [
        "### Stratified Distribution Comparisons"
      ],
      "metadata": {
        "id": "54yM2PYWEyyz"
      }
    },
    {
      "cell_type": "code",
      "source": [
        "#load stratified data form shared drive\n",
        "df_train = pd.read_csv(folderloc + \"train_stratified.csv\",header = 0)\n",
        "df_test = pd.read_csv(folderloc + \"test_stratified.csv\",header = 0)\n",
        "\n",
        "df_test_mat = df_test.iloc[:,1:].values\n",
        "df_test_mat_class = df_test.iloc[:,0].values\n",
        "df_train_mat = df_train.iloc[:,1:].values\n",
        "df_train_mat_class = df_train.iloc[:,0].values\n"
      ],
      "metadata": {
        "id": "vZKiivSkKNts"
      },
      "execution_count": null,
      "outputs": []
    },
    {
      "cell_type": "code",
      "source": [
        "# code to clean df\n",
        "del df_train\n",
        "del df_test"
      ],
      "metadata": {
        "id": "sb7sIy44K5_M"
      },
      "execution_count": null,
      "outputs": []
    },
    {
      "cell_type": "code",
      "source": [
        "\n",
        "print(\"Difference in distrubtion between dataset and Train(stratified) labels : \\n\",df_train[\"0\"].value_counts(sort=False,normalize=True).sort_index()-df[\"0\"].value_counts(sort=False,normalize=True).sort_index())\n",
        "\n",
        "\n",
        "print(\"Difference in distrubtion between dataset and Test(stratified) labels: \\n\",df_test[\"0\"].value_counts(sort=False,normalize=True).sort_index()-df[\"0\"].value_counts(sort=False,normalize=True).sort_index())\n",
        "##Double check my work\n",
        "print(\"Difference in distrubtion between dataset and dataset labels(expected 0s): \\n\",df[\"0\"].value_counts(sort=False,normalize=True).sort_index()-df[\"0\"].value_counts(sort=False,normalize=True).sort_index())\n",
        "\n",
        "# unique, counts = np.unique(y_train,return_counts=True)\n",
        "# total = counts.sum()\n",
        "# print(total)\n",
        "# print(\"Distribution of y_train: \",dict(zip(unique, counts/total * 100)))\n",
        "# unique, counts = np.unique(y_test,return_counts=True)\n",
        "# total = counts.sum()\n",
        "# print(\"Distribution of y_test: \",dict(zip(unique, counts/total * 100)))\n",
        "# print(\"Distribution of dataset labels: \\n\",df[\"0\"].value_counts(sort=False,normalize=True))\n"
      ],
      "metadata": {
        "colab": {
          "base_uri": "https://localhost:8080/"
        },
        "id": "IImHdL_dJVxy",
        "outputId": "58025c86-c9f1-4ade-969a-8cc184c76c23"
      },
      "execution_count": null,
      "outputs": [
        {
          "output_type": "stream",
          "name": "stdout",
          "text": [
            "Difference in distrubtion between dataset and Train(stratified) labels : \n",
            " 0    -6.712310e-07\n",
            "1    -1.342462e-06\n",
            "2    -6.712310e-07\n",
            "3    -6.712310e-07\n",
            "4     0.000000e+00\n",
            "5    -1.342462e-06\n",
            "6     1.342462e-06\n",
            "7    -1.342462e-06\n",
            "8     0.000000e+00\n",
            "9    -1.342462e-06\n",
            "10   -1.342462e-06\n",
            "11    6.712310e-07\n",
            "12    6.712310e-07\n",
            "13    0.000000e+00\n",
            "14    0.000000e+00\n",
            "15    6.712310e-07\n",
            "16    1.342462e-06\n",
            "17    6.712310e-07\n",
            "18   -6.712310e-07\n",
            "19    0.000000e+00\n",
            "20    2.013693e-06\n",
            "21    1.342462e-06\n",
            "22   -6.712310e-07\n",
            "23    1.342462e-06\n",
            "24   -6.712310e-07\n",
            "25    6.712310e-07\n",
            "Name: 0, dtype: float64\n",
            "Difference in distrubtion between dataset and Test(stratified) labels: \n",
            " 0     0.000003\n",
            "1     0.000005\n",
            "2     0.000003\n",
            "3     0.000003\n",
            "4     0.000000\n",
            "5     0.000005\n",
            "6    -0.000005\n",
            "7     0.000005\n",
            "8     0.000000\n",
            "9     0.000005\n",
            "10    0.000005\n",
            "11   -0.000003\n",
            "12   -0.000003\n",
            "13    0.000000\n",
            "14    0.000000\n",
            "15   -0.000003\n",
            "16   -0.000005\n",
            "17   -0.000003\n",
            "18    0.000003\n",
            "19    0.000000\n",
            "20   -0.000008\n",
            "21   -0.000005\n",
            "22    0.000003\n",
            "23   -0.000005\n",
            "24    0.000003\n",
            "25   -0.000003\n",
            "Name: 0, dtype: float64\n",
            "Difference in distrubtion between dataset and dataset labels(expected 0s): \n",
            " 0     0.0\n",
            "1     0.0\n",
            "2     0.0\n",
            "3     0.0\n",
            "4     0.0\n",
            "5     0.0\n",
            "6     0.0\n",
            "7     0.0\n",
            "8     0.0\n",
            "9     0.0\n",
            "10    0.0\n",
            "11    0.0\n",
            "12    0.0\n",
            "13    0.0\n",
            "14    0.0\n",
            "15    0.0\n",
            "16    0.0\n",
            "17    0.0\n",
            "18    0.0\n",
            "19    0.0\n",
            "20    0.0\n",
            "21    0.0\n",
            "22    0.0\n",
            "23    0.0\n",
            "24    0.0\n",
            "25    0.0\n",
            "Name: 0, dtype: float64\n"
          ]
        }
      ]
    },
    {
      "cell_type": "markdown",
      "source": [
        "### Saving Stratified Train/Test"
      ],
      "metadata": {
        "id": "RaAKcI7TE3IT"
      }
    },
    {
      "cell_type": "code",
      "source": [
        "\n",
        "df_train.to_csv(folderloc+'train_stratified.csv',index = False)\n",
        "df_test.to_csv(folderloc+'test_stratified.csv', index = False)"
      ],
      "metadata": {
        "id": "cKutuBeuE6RG"
      },
      "execution_count": null,
      "outputs": []
    },
    {
      "cell_type": "markdown",
      "source": [
        "# Make train/test using a balanced train/test"
      ],
      "metadata": {
        "id": "qiJcCyp4E-kD"
      }
    },
    {
      "cell_type": "code",
      "source": [
        "#Single train/test stratified set using train_test_split\n",
        "alphabet = []\n",
        "train, test = model_selection.train_test_split(df, test_size=0.20)\n",
        "train.to_csv(folderloc+'train.csv',index = False)\n",
        "test.to_csv(folderloc+'test.csv', index = False)"
      ],
      "metadata": {
        "id": "pyKNAghzESOX"
      },
      "execution_count": null,
      "outputs": []
    },
    {
      "cell_type": "markdown",
      "source": [
        "#Import Group Train/Test and view sample data"
      ],
      "metadata": {
        "id": "OddHipcixZm2"
      }
    },
    {
      "cell_type": "code",
      "source": [
        "input_train = pd.read_csv(folderloc + \"train.csv\",header = 0)\n"
      ],
      "metadata": {
        "id": "gZyu-ygMTQQ4"
      },
      "execution_count": null,
      "outputs": []
    },
    {
      "cell_type": "code",
      "source": [
        "input_test = pd.read_csv(folderloc + \"test.csv\",header = 0)"
      ],
      "metadata": {
        "id": "Y6GKMsSOY17F"
      },
      "execution_count": null,
      "outputs": []
    },
    {
      "cell_type": "markdown",
      "source": [
        "## Origianal Train/Test Distribution Comparison"
      ],
      "metadata": {
        "id": "GXeNZZeIMj9t"
      }
    },
    {
      "cell_type": "code",
      "source": [
        "#Check distribution\n",
        "\n",
        "print(\"Difference in distrubtion between dataset and Train(not stratified) labels: \\n\",input_train[\"0\"].value_counts(sort=False,normalize=True).sort_index()-df[\"0\"].value_counts(sort=False,normalize=True).sort_index())\n",
        "print(\"Difference in distrubtion between dataset and Test labels(not stratified): \\n\",input_test[\"0\"].value_counts(sort=False,normalize=True).sort_index()-df[\"0\"].value_counts(sort=False,normalize=True).sort_index())"
      ],
      "metadata": {
        "colab": {
          "base_uri": "https://localhost:8080/"
        },
        "id": "GJyS7RNEHUOY",
        "outputId": "ba506a4d-f5fa-456b-da5e-748ba15149bc"
      },
      "execution_count": null,
      "outputs": [
        {
          "output_type": "stream",
          "name": "stdout",
          "text": [
            "Difference in distrubtion between dataset and Train(not stratified) labels: \n",
            " 0    -0.000071\n",
            "1     0.000113\n",
            "2    -0.000075\n",
            "3    -0.000165\n",
            "4     0.000275\n",
            "5     0.000022\n",
            "6     0.000162\n",
            "7    -0.000179\n",
            "8     0.000013\n",
            "9     0.000076\n",
            "10   -0.000075\n",
            "11    0.000108\n",
            "12   -0.000113\n",
            "13   -0.000175\n",
            "14    0.000020\n",
            "15    0.000350\n",
            "16   -0.000160\n",
            "17   -0.000191\n",
            "18    0.000144\n",
            "19    0.000023\n",
            "20   -0.000028\n",
            "21   -0.000116\n",
            "22    0.000100\n",
            "23    0.000035\n",
            "24   -0.000075\n",
            "25   -0.000019\n",
            "Name: 0, dtype: float64\n",
            "Difference in distrubtion between dataset and Test labels(not stratified): \n",
            " 0     0.000285\n",
            "1    -0.000451\n",
            "2     0.000298\n",
            "3     0.000660\n",
            "4    -0.001101\n",
            "5    -0.000089\n",
            "6    -0.000650\n",
            "7     0.000717\n",
            "8    -0.000054\n",
            "9    -0.000303\n",
            "10    0.000301\n",
            "11   -0.000432\n",
            "12    0.000454\n",
            "13    0.000698\n",
            "14   -0.000081\n",
            "15   -0.001399\n",
            "16    0.000639\n",
            "17    0.000763\n",
            "18   -0.000575\n",
            "19   -0.000094\n",
            "20    0.000113\n",
            "21    0.000464\n",
            "22   -0.000400\n",
            "23   -0.000140\n",
            "24    0.000298\n",
            "25    0.000078\n",
            "Name: 0, dtype: float64\n"
          ]
        }
      ]
    },
    {
      "cell_type": "code",
      "source": [
        "#Distribution of train set\n",
        "input_train[\"0\"].value_counts(sort=False,normalize=True).sort_index().plot(kind='bar')"
      ],
      "metadata": {
        "colab": {
          "base_uri": "https://localhost:8080/",
          "height": 285
        },
        "id": "uas6Hr31Icep",
        "outputId": "ae5be5b3-4cf1-4e93-f540-44e182d8276b"
      },
      "execution_count": null,
      "outputs": [
        {
          "output_type": "execute_result",
          "data": {
            "text/plain": [
              "<matplotlib.axes._subplots.AxesSubplot at 0x7f54b55ae250>"
            ]
          },
          "metadata": {},
          "execution_count": 10
        },
        {
          "output_type": "display_data",
          "data": {
            "text/plain": [
              "<Figure size 432x288 with 1 Axes>"
            ],
            "image/png": "[encoded data removed]"
          },
          "metadata": {
            "needs_background": "light"
          }
        }
      ]
    },
    {
      "cell_type": "code",
      "source": [
        "#Distribution of test set\n",
        "input_test[\"0\"].value_counts(sort=False,normalize=True).sort_index().plot(kind='bar')"
      ],
      "metadata": {
        "colab": {
          "base_uri": "https://localhost:8080/",
          "height": 285
        },
        "id": "8EyMwSCAIgCE",
        "outputId": "76041ff6-9cfe-4381-e62e-7d1943c6e162"
      },
      "execution_count": null,
      "outputs": [
        {
          "output_type": "execute_result",
          "data": {
            "text/plain": [
              "<matplotlib.axes._subplots.AxesSubplot at 0x7f54b551ad50>"
            ]
          },
          "metadata": {},
          "execution_count": 11
        },
        {
          "output_type": "display_data",
          "data": {
            "text/plain": [
              "<Figure size 432x288 with 1 Axes>"
            ],
            "image/png": "[encoded data removed]"
          },
          "metadata": {
            "needs_background": "light"
          }
        }
      ]
    },
    {
      "cell_type": "markdown",
      "source": [
        "# Testing Display Data"
      ],
      "metadata": {
        "id": "2dhTrlF-wwZl"
      }
    },
    {
      "cell_type": "code",
      "source": [
        "row = 0\n",
        "test_mat_1 = input_test.iloc[0:2,1:].values\n",
        "test_mat_1_label = input_test.iloc[0:1,0]\n",
        "print(test_mat_1)\n",
        "# print(test_mat_1_label)"
      ],
      "metadata": {
        "colab": {
          "base_uri": "https://localhost:8080/"
        },
        "id": "Iafu-CabY8mV",
        "outputId": "78ceeea6-8df7-483e-9bb1-462c0a9a59c2"
      },
      "execution_count": null,
      "outputs": [
        {
          "output_type": "stream",
          "name": "stdout",
          "text": [
            "[[0 0 0 ... 0 0 0]\n",
            " [0 0 0 ... 0 0 0]]\n"
          ]
        }
      ]
    },
    {
      "cell_type": "code",
      "source": [
        "test_mat_1 = np.resize(test_mat_1, (2,28, 28))\n",
        "print(test_mat_1)\n",
        "im = Image.fromarray(test_mat_1[0].astype(np.uint8))\n",
        "im"
      ],
      "metadata": {
        "colab": {
          "base_uri": "https://localhost:8080/",
          "height": 305
        },
        "id": "SoYBxMZOvc-f",
        "outputId": "ea7fbf8e-7aed-4360-914c-0fdc8b686fdb"
      },
      "execution_count": null,
      "outputs": [
        {
          "output_type": "stream",
          "name": "stdout",
          "text": [
            "[[[0 0 0 ... 0 0 0]\n",
            "  [0 0 0 ... 0 0 0]\n",
            "  [0 0 0 ... 0 0 0]\n",
            "  ...\n",
            "  [0 0 0 ... 0 0 0]\n",
            "  [0 0 0 ... 0 0 0]\n",
            "  [0 0 0 ... 0 0 0]]\n",
            "\n",
            " [[0 0 0 ... 0 0 0]\n",
            "  [0 0 0 ... 0 0 0]\n",
            "  [0 0 0 ... 0 0 0]\n",
            "  ...\n",
            "  [0 0 0 ... 0 0 0]\n",
            "  [0 0 0 ... 0 0 0]\n",
            "  [0 0 0 ... 0 0 0]]]\n"
          ]
        },
        {
          "output_type": "execute_result",
          "data": {
            "text/plain": [
              "<PIL.Image.Image image mode=L size=28x28>"
            ],
            "image/png": "[encoded data removed]"
          },
          "metadata": {},
          "execution_count": 11
        }
      ]
    },
    {
      "cell_type": "code",
      "source": [],
      "metadata": {
        "id": "QVmpAM1svhve"
      },
      "execution_count": null,
      "outputs": []
    },
    {
      "cell_type": "code",
      "source": [
        "input_test.info()\n",
        "input_train.info()"
      ],
      "metadata": {
        "colab": {
          "base_uri": "https://localhost:8080/"
        },
        "id": "q7GFmsmgZN_4",
        "outputId": "79e93ce1-6e09-4078-a36a-e9cdc5011498"
      },
      "execution_count": null,
      "outputs": [
        {
          "output_type": "stream",
          "name": "stdout",
          "text": [
            "<class 'pandas.core.frame.DataFrame'>\n",
            "RangeIndex: 74490 entries, 0 to 74489\n",
            "Columns: 785 entries, 0 to 0.648\n",
            "dtypes: int64(785)\n",
            "memory usage: 446.1 MB\n",
            "<class 'pandas.core.frame.DataFrame'>\n",
            "RangeIndex: 297960 entries, 0 to 297959\n",
            "Columns: 785 entries, 0 to 0.648\n",
            "dtypes: int64(785)\n",
            "memory usage: 1.7 GB\n"
          ]
        }
      ]
    },
    {
      "cell_type": "markdown",
      "source": [
        "# Create regular train/test matrices"
      ],
      "metadata": {
        "id": "XX_n1ojjw1u8"
      }
    },
    {
      "cell_type": "code",
      "source": [
        "test_mat = input_test.iloc[:,1:].values\n",
        "test_mat_class = input_test.iloc[:,0].values"
      ],
      "metadata": {
        "id": "PWaZTORJcsqR"
      },
      "execution_count": null,
      "outputs": []
    },
    {
      "cell_type": "code",
      "source": [
        "train_mat = input_train.iloc[:,1:].values"
      ],
      "metadata": {
        "id": "Gv0z00fNWa-7"
      },
      "execution_count": null,
      "outputs": []
    },
    {
      "cell_type": "code",
      "source": [
        "train_mat_class = input_train.iloc[:,0].values"
      ],
      "metadata": {
        "id": "OUwcvI-cYQuk"
      },
      "execution_count": null,
      "outputs": []
    },
    {
      "cell_type": "code",
      "source": [
        "train_mat[0,:]"
      ],
      "metadata": {
        "colab": {
          "base_uri": "https://localhost:8080/"
        },
        "id": "39HPMnIfWeFY",
        "outputId": "c65f9931-fd9d-4e8d-9a44-82460c1c0736"
      },
      "execution_count": null,
      "outputs": [
        {
          "output_type": "execute_result",
          "data": {
            "text/plain": [
              "array([  0,   0,   0,   0,   0,   0,   0,   0,   0,   0,   0,   0,   0,   0,   0,   0,   0,   0,   0,   0,   0,\n",
              "         0,   0,   0,   0,   0,   0,   0,   0,   0,   0,   0,   0,   0,   0,   0,   0,   0,   0,   0,   0,   0,\n",
              "         0,   0,   0,   0,   0,   0,   0,   0,   0,   0,   0,   0,   0,   0,   0,   0,   0,   0,   0,   0,   0,\n",
              "         0,   0,   0,   0,   0,   0,   0,   0,   0,   0,   0,   0,   0,   0,   0,   0,   0,   0,   0,   0,   0,\n",
              "         0,   0,   0,   0,   0,   0,   0,   0,   0,   0,   0,   0,   0,   0,   0,   0,   0,   0,   0,   0,   0,\n",
              "         0,   0,   0,   0,   0,   0,   0,   0,   0,   0,   0,   0,   0,   0,   0,   0,   0,   0,   0,   0,   0,\n",
              "        21, 117, 117, 117, 167, 255, 255,  93,   0,   0,   0,   0,   0,   0,   0,   0,   0,   0,   0,   0,   0,\n",
              "         0,   0,   0,   0,   0,  35,  96, 200, 255, 255, 255, 255, 255, 255, 229,  44,   0,   0,   0,   0,   0,\n",
              "         0,   0,   0,   0,   0,   0,   0,   0,   0,   0,   0, 138, 229, 255, 255, 255, 255, 255, 255, 255, 255,\n",
              "       255, 157,   0,   0,   0,   0,   0,   0,   0,   0,   0,   0,   0,   0,   0,   0,   5, 130, 255, 255, 255,\n",
              "       255, 255, 225, 200, 200, 215, 255, 255, 225,   0,   0,   0,   0,   0,   0,   0,   0,   0,   0,   0,   0,\n",
              "         0,  50, 180, 255, 255, 255, 227, 120,  83,  38,   0,   0,  23, 114, 255, 116,   0,   0,   0,   0,   0,\n",
              "         0,   0,   0,   0,   0,   0,   0,   4, 189, 255, 255, 179, 103,  19,   0,   0,   0,   0,   0,   4,  58,\n",
              "       234,  47,   0,   0,   0,   0,   0,   0,   0,   0,   0,   0,   0,   0, 141, 255, 243, 124,   0,   0,   0,\n",
              "         0,   0,   0,   0,   0,  34, 219,  93,   0,   0,   0,   0,   0,   0,   0,   0,   0,   0,   0,   0, 150,\n",
              "       254, 235,  56,   0,   0,   0,   0,   0,   0,   0,   0,   0, 128, 173,  53,   0,   0,   0,   0,   0,   0,\n",
              "         0,   0,   0,   0,   0, 103, 252, 255, 160,   0,   0,   0,   0,   0,   0,   0,   0,   0,   0,  23,   8,\n",
              "         0,   0,   0,   0,   0,   0,   0,   0,   0,   0,   0,   0, 229, 255, 236,  51,   0,   0,   0,   0,   0,\n",
              "         0,   0,   0,   0,   0,   0,   0,   0,   0,   0,   0,   0,   0,   0,   0,   0,   0,   0,   0, 255, 187,\n",
              "        50,   0,   0,   0,   0,   0,   0,   0,   0,   0,   0,   0,   0,   0,   0,   0,   0,   0,   0,   0,   0,\n",
              "         0,   0,   0,   0,   0, 255, 222,  30,   0,   0,   0,   0,   0,   0,   0,   0,   0,   0,   0,   0,   0,\n",
              "         0,   0,   0,   0,   0,   0,   0,   0,   0,   0,   0,   0, 255, 255, 165,  43,   0,   0,   0,   0,   0,\n",
              "         0,   0,   0,   0,   0,   0,   0,   0,   0,   0,   0,   0,   0,   0,   0,   0,   0,   0,   0, 255, 255,\n",
              "       255, 231,  45,   0,   0,   0,   0,   0,   0,   0,   0,   0,   0,   0,   0,   0,   0,   0,   0,   0,   0,\n",
              "         0,   0,   0,   0,   0, 199, 255, 255, 255, 234, 103, 166, 241, 128,  85,   0,   0,   0,   0,   0,   0,\n",
              "         0,   0,   0,   0,   0,   0,   0,   0,   0,   0,   0,   0,  16, 190, 255, 255, 255, 255, 255, 255, 255,\n",
              "       249, 221, 221, 221,  65,   0,   0,   0,   0,   0,   0,   0,   0,   0,   0,   0,   0,   0,   0,   0,  20,\n",
              "        93, 238, 255, 255, 255, 255, 255, 255, 255, 255, 255, 162,   0,   0,   0,   0,   0,   0,   0,   0,   0,\n",
              "         0,   0,   0,   0,   0,   0,   0,   0, 155, 217, 255, 255, 255, 255, 255, 255, 255, 255, 227,  33,   0,\n",
              "         0,   0,   0,   0,   0,   0,   0,   0,   0,   0,   0,   0,   0,   0,   0,   0,   9,  96,  96,  96, 209,\n",
              "       249, 255, 255, 255, 236,  43,   0,   0,   0,   0,   0,   0,   0,   0,   0,   0,   0,   0,   0,   0,   0,\n",
              "         0,   0,   0,   0,   0,   0,   0,  85, 130, 255, 255,  23,   0,   0,   0,   0,   0,   0,   0,   0,   0,\n",
              "         0,   0,   0,   0,   0,   0,   0,   0,   0,   0,   0,   0,   0,   0,   0,   0,   0,   0,   0,   0,   0,\n",
              "         0,   0,   0,   0,   0,   0,   0,   0,   0,   0,   0,   0,   0,   0,   0,   0,   0,   0,   0,   0,   0,\n",
              "         0,   0,   0,   0,   0,   0,   0,   0,   0,   0,   0,   0,   0,   0,   0,   0,   0,   0,   0,   0,   0,\n",
              "         0,   0,   0,   0,   0,   0,   0,   0,   0,   0,   0,   0,   0,   0,   0,   0,   0,   0,   0,   0,   0,\n",
              "         0,   0,   0,   0,   0,   0,   0,   0,   0,   0,   0,   0,   0,   0,   0,   0,   0,   0,   0,   0,   0,\n",
              "         0,   0,   0,   0,   0,   0,   0], dtype=int64)"
            ]
          },
          "metadata": {},
          "execution_count": 11
        }
      ]
    },
    {
      "cell_type": "markdown",
      "source": [
        "#K Nearest Neighbor Classifier"
      ],
      "metadata": {
        "id": "Rf1iFEFYxHvu"
      }
    },
    {
      "cell_type": "code",
      "source": [
        "neigh = KNeighborsClassifier(n_neighbors=1,n_jobs=-1)"
      ],
      "metadata": {
        "id": "8KoApdRRXQ8l"
      },
      "execution_count": null,
      "outputs": []
    },
    {
      "cell_type": "code",
      "source": [
        "neigh.fit(train_mat, train_mat_class)"
      ],
      "metadata": {
        "colab": {
          "base_uri": "https://localhost:8080/"
        },
        "id": "EoIvfJwWYinY",
        "outputId": "b8416cd8-6dea-4ff0-907e-d7c0b0f3eb56"
      },
      "execution_count": null,
      "outputs": [
        {
          "output_type": "execute_result",
          "data": {
            "text/plain": [
              "KNeighborsClassifier(n_jobs=-1, n_neighbors=1)"
            ]
          },
          "metadata": {},
          "execution_count": 9
        }
      ]
    },
    {
      "cell_type": "code",
      "source": [
        "pred = neigh.predict(test_mat)\n",
        "# print(pred)"
      ],
      "metadata": {
        "id": "mt2POcxyYtdH"
      },
      "execution_count": null,
      "outputs": []
    },
    {
      "cell_type": "markdown",
      "source": [
        "## Scoring KNN"
      ],
      "metadata": {
        "id": "yCvoDUSRxjK9"
      }
    },
    {
      "cell_type": "code",
      "source": [
        "print(neigh.score(test_mat,test_mat_class))"
      ],
      "metadata": {
        "id": "DpiSUxomfwQ3",
        "colab": {
          "base_uri": "https://localhost:8080/"
        },
        "outputId": "e18c1a6a-63e8-4e2f-9aa7-21d460ac5d83"
      },
      "execution_count": null,
      "outputs": [
        {
          "output_type": "stream",
          "name": "stdout",
          "text": [
            "0.9864411330379916\n"
          ]
        }
      ]
    },
    {
      "cell_type": "code",
      "source": [],
      "metadata": {
        "id": "gv0RBVOGgi19"
      },
      "execution_count": null,
      "outputs": []
    },
    {
      "cell_type": "markdown",
      "source": [
        "# Weight Based K Nearest Neighbor "
      ],
      "metadata": {
        "id": "iRO0t946vyCE"
      }
    },
    {
      "cell_type": "code",
      "source": [
        "wneigh = KNeighborsClassifier(n_neighbors=6,weights='distance',n_jobs=-1)"
      ],
      "metadata": {
        "id": "9WnIdtxknT7i"
      },
      "execution_count": null,
      "outputs": []
    },
    {
      "cell_type": "code",
      "source": [
        "wneigh.fit(df_train_mat,df_train_mat_class)"
      ],
      "metadata": {
        "colab": {
          "base_uri": "https://localhost:8080/"
        },
        "id": "s4wGp9OMwGW2",
        "outputId": "779d65e1-b90c-4332-90db-fc42b593b30a"
      },
      "execution_count": null,
      "outputs": [
        {
          "output_type": "execute_result",
          "data": {
            "text/plain": [
              "KNeighborsClassifier(n_jobs=-1, n_neighbors=6, weights='distance')"
            ]
          },
          "metadata": {},
          "execution_count": 20
        }
      ]
    },
    {
      "cell_type": "code",
      "source": [
        "pred = wneigh.predict(df_test_mat)\n",
        "print(pred)"
      ],
      "metadata": {
        "id": "K7P33reOw8f6",
        "colab": {
          "base_uri": "https://localhost:8080/"
        },
        "outputId": "0db0165a-0628-45cb-b532-5c51b6e01e61"
      },
      "execution_count": null,
      "outputs": [
        {
          "output_type": "stream",
          "name": "stdout",
          "text": [
            "[18 22 15 ... 13 18 13]\n"
          ]
        }
      ]
    },
    {
      "cell_type": "code",
      "source": [
        "from sklearn.metrics import classification_report\n",
        "alphabets = ['A', 'B', 'C', 'D', 'E', 'F', 'G', 'H', 'I', 'J', 'K', 'L', 'M', 'N', 'O', 'P', 'Q', 'R', 'S', 'T', 'U', 'V', 'W', 'X', 'Y', 'Z']\n",
        "print(classification_report(df_test_mat_class, pred,target_names=alphabets))"
      ],
      "metadata": {
        "colab": {
          "base_uri": "https://localhost:8080/"
        },
        "id": "cEHgOzNdN9qy",
        "outputId": "f0e25a05-e526-4d3b-d457-d783a6dde195"
      },
      "execution_count": null,
      "outputs": [
        {
          "output_type": "stream",
          "name": "stdout",
          "text": [
            "              precision    recall  f1-score   support\n",
            "\n",
            "           A       0.98      0.99      0.99      2774\n",
            "           B       1.00      0.95      0.97      1734\n",
            "           C       0.98      0.99      0.98      4682\n",
            "           D       0.98      0.97      0.97      2027\n",
            "           E       1.00      0.97      0.98      2288\n",
            "           F       0.97      0.90      0.94       233\n",
            "           G       0.99      0.96      0.98      1152\n",
            "           H       0.98      0.97      0.97      1444\n",
            "           I       1.00      0.90      0.95       224\n",
            "           J       0.97      0.96      0.97      1699\n",
            "           K       0.98      0.96      0.97      1121\n",
            "           L       0.97      0.99      0.98      2317\n",
            "           M       1.00      0.97      0.98      2467\n",
            "           N       0.97      0.99      0.98      3802\n",
            "           O       0.99      1.00      0.99     11565\n",
            "           P       0.96      1.00      0.98      3868\n",
            "           Q       0.99      0.91      0.95      1162\n",
            "           R       0.99      0.96      0.97      2313\n",
            "           S       1.00      1.00      1.00      9684\n",
            "           T       0.98      1.00      0.99      4499\n",
            "           U       0.99      1.00      0.99      5801\n",
            "           V       0.99      0.99      0.99       836\n",
            "           W       1.00      0.98      0.99      2157\n",
            "           X       0.99      0.97      0.98      1254\n",
            "           Y       0.98      0.99      0.98      2172\n",
            "           Z       1.00      0.99      0.99      1215\n",
            "\n",
            "    accuracy                           0.98     74490\n",
            "   macro avg       0.99      0.97      0.98     74490\n",
            "weighted avg       0.98      0.98      0.98     74490\n",
            "\n"
          ]
        }
      ]
    },
    {
      "cell_type": "markdown",
      "source": [
        "## Test Optimization"
      ],
      "metadata": {
        "id": "mdHZg8tXgoio"
      }
    },
    {
      "cell_type": "code",
      "source": [
        "for i in range(3,7):\n",
        "  wneigh = KNeighborsClassifier(n_neighbors=i,weights='distance',n_jobs=-1)\n",
        "  wneigh.fit(train_mat,train_mat_class)\n",
        "  print(\"Neighbor=\",i,\",\",wneigh.score(test_mat,test_mat_class))"
      ],
      "metadata": {
        "colab": {
          "base_uri": "https://localhost:8080/"
        },
        "id": "XXYxgf6FgnFO",
        "outputId": "21736fca-7c16-4110-9642-d8fdf611c480"
      },
      "execution_count": null,
      "outputs": [
        {
          "output_type": "stream",
          "name": "stdout",
          "text": [
            "Neighbor= 3 , 0.9849241508927373\n",
            "Neighbor= 4 , 0.9856490804134783\n",
            "Neighbor= 5 , 0.9855416834474426\n",
            "Neighbor= 6 , 0.9856893542757417\n"
          ]
        }
      ]
    },
    {
      "cell_type": "markdown",
      "source": [
        "### Optimization of Stratified"
      ],
      "metadata": {
        "id": "cxhl7W9oFoVm"
      }
    },
    {
      "cell_type": "code",
      "source": [],
      "metadata": {
        "id": "KssK8LIcFsr5"
      },
      "execution_count": null,
      "outputs": []
    },
    {
      "cell_type": "code",
      "source": [
        "for i in range(3,8):\n",
        "  wneigh = KNeighborsClassifier(n_neighbors=i,weights='distance',n_jobs=-1)\n",
        "  wneigh.fit(df_train_mat,df_train_mat_class)\n",
        "  print(\"Neighbor=\",i,\",\",wneigh.score(df_test_mat,df_test_mat_class))"
      ],
      "metadata": {
        "colab": {
          "base_uri": "https://localhost:8080/"
        },
        "outputId": "871af87e-f8cd-4acc-edff-9eaff37e7590",
        "id": "u0Bj0xkeFuCz"
      },
      "execution_count": null,
      "outputs": [
        {
          "output_type": "stream",
          "name": "stdout",
          "text": [
            "Neighbor= 3 , 0.9839710028191704\n",
            "Neighbor= 4 , 0.9847630554436837\n",
            "Neighbor= 5 , 0.9847496308229292\n",
            "Neighbor= 6 , 0.9848704524097194\n",
            "Neighbor= 7 , 0.9840247013021882\n"
          ]
        }
      ]
    },
    {
      "cell_type": "markdown",
      "source": [
        "## Scoring Weight KNN"
      ],
      "metadata": {
        "id": "z-65U64_xGFN"
      }
    },
    {
      "cell_type": "code",
      "source": [
        "print(wneigh.score(test_mat,test_mat_class))"
      ],
      "metadata": {
        "colab": {
          "base_uri": "https://localhost:8080/"
        },
        "id": "_9bGpRITxFW_",
        "outputId": "255e6cad-4415-437c-951e-c70bff4ded3f"
      },
      "execution_count": null,
      "outputs": [
        {
          "output_type": "stream",
          "name": "stdout",
          "text": [
            "0.9855416834474426\n"
          ]
        }
      ]
    },
    {
      "cell_type": "markdown",
      "source": [
        "## Grid Search KNN Distance Optimization"
      ],
      "metadata": {
        "id": "RUFYeUa_pCj3"
      }
    },
    {
      "cell_type": "code",
      "source": [
        "#Distance Scoring Nearest Neighbor\n",
        "wneigh = KNeighborsClassifier(weights='distance',n_jobs=-1)\n",
        "\n",
        "from sklearn.model_selection import GridSearchCV\n",
        "\n",
        "#Grid search to find best k value\n",
        "param_grid = {'n_neighbors': np.arange(3,8)}\n",
        "grid = GridSearchCV(wneigh,param_grid,cv=5)\n",
        "grid.fit(df_train_mat,df_train_mat_class)"
      ],
      "metadata": {
        "colab": {
          "base_uri": "https://localhost:8080/"
        },
        "id": "X6L_lHdkpeUU",
        "outputId": "9b3a8926-ef89-4787-c5a7-b8c72656c239"
      },
      "execution_count": null,
      "outputs": [
        {
          "output_type": "execute_result",
          "data": {
            "text/plain": [
              "GridSearchCV(cv=5,\n",
              "             estimator=KNeighborsClassifier(n_jobs=-1, weights='distance'),\n",
              "             param_grid={'n_neighbors': array([3, 4, 5, 6, 7])})"
            ]
          },
          "metadata": {},
          "execution_count": 6
        }
      ]
    },
    {
      "cell_type": "code",
      "source": [
        "grid.best_score_"
      ],
      "metadata": {
        "colab": {
          "base_uri": "https://localhost:8080/"
        },
        "id": "HZG66C4lp-tb",
        "outputId": "d93127e8-7af7-497d-d444-4e345e6b9078"
      },
      "execution_count": null,
      "outputs": [
        {
          "output_type": "execute_result",
          "data": {
            "text/plain": [
              "0.9775238287018393"
            ]
          },
          "metadata": {},
          "execution_count": 7
        }
      ]
    },
    {
      "cell_type": "code",
      "source": [
        "grid.best_params_"
      ],
      "metadata": {
        "colab": {
          "base_uri": "https://localhost:8080/"
        },
        "id": "N-omv47JqAiF",
        "outputId": "8031351e-b45d-4288-b229-4fb887f8a48a"
      },
      "execution_count": null,
      "outputs": [
        {
          "output_type": "execute_result",
          "data": {
            "text/plain": [
              "{'n_neighbors': 6}"
            ]
          },
          "metadata": {},
          "execution_count": 8
        }
      ]
    },
    {
      "cell_type": "markdown",
      "source": [
        "# Radius Based Nearest Neighbor"
      ],
      "metadata": {
        "id": "IUJptERQv7xv"
      }
    },
    {
      "cell_type": "code",
      "source": [
        "rneigh = RadiusNeighborsClassifier(n_jobs=-1)"
      ],
      "metadata": {
        "id": "fh80fgGgxPeO"
      },
      "execution_count": null,
      "outputs": []
    },
    {
      "cell_type": "code",
      "source": [
        "rneigh.fit(train_mat,train_mat_class)"
      ],
      "metadata": {
        "id": "dY9fIB9lxPyF",
        "colab": {
          "base_uri": "https://localhost:8080/"
        },
        "outputId": "e19b379d-e058-4d7c-96be-8d7558101203"
      },
      "execution_count": null,
      "outputs": [
        {
          "output_type": "execute_result",
          "data": {
            "text/plain": [
              "RadiusNeighborsClassifier(n_jobs=-1)"
            ]
          },
          "metadata": {},
          "execution_count": 9
        }
      ]
    },
    {
      "cell_type": "code",
      "source": [
        "# pred = rneigh.predict(test_mat)\n",
        "# print(pred)"
      ],
      "metadata": {
        "id": "WBJ69wW6xQHi"
      },
      "execution_count": null,
      "outputs": []
    },
    {
      "cell_type": "markdown",
      "source": [
        "## Scoring Radius Based Nearest Neighbor"
      ],
      "metadata": {
        "id": "DAVY3bfKxQ2e"
      }
    },
    {
      "cell_type": "code",
      "source": [
        "print(rneigh.score(test_mat,test_mat_class))\n",
        "#in progress"
      ],
      "metadata": {
        "id": "Uld5T4FMxWB0",
        "colab": {
          "base_uri": "https://localhost:8080/",
          "height": 530
        },
        "outputId": "02eb642c-e67d-4239-c0be-17bf2372a8ae"
      },
      "execution_count": null,
      "outputs": [
        {
          "output_type": "error",
          "ename": "ValueError",
          "evalue": "ignored",
          "traceback": [
            "\u001b[1;31m---------------------------------------------------------------------------\u001b[0m",
            "\u001b[1;31mValueError\u001b[0m                                Traceback (most recent call last)",
            "\u001b[1;32m~\\AppData\\Local\\Temp\\ipykernel_23768\\3360220967.py\u001b[0m in \u001b[0;36m<module>\u001b[1;34m\u001b[0m\n\u001b[1;32m----> 1\u001b[1;33m \u001b[0mprint\u001b[0m\u001b[1;33m(\u001b[0m\u001b[0mrneigh\u001b[0m\u001b[1;33m.\u001b[0m\u001b[0mscore\u001b[0m\u001b[1;33m(\u001b[0m\u001b[0mtest_mat\u001b[0m\u001b[1;33m,\u001b[0m\u001b[0mtest_mat_class\u001b[0m\u001b[1;33m)\u001b[0m\u001b[1;33m)\u001b[0m\u001b[1;33m\u001b[0m\u001b[1;33m\u001b[0m\u001b[0m\n\u001b[0m",
            "\u001b[1;32mc:\\users\\reg\\appdata\\local\\programs\\python\\python37\\lib\\site-packages\\sklearn\\base.py\u001b[0m in \u001b[0;36mscore\u001b[1;34m(self, X, y, sample_weight)\u001b[0m\n\u001b[0;32m    649\u001b[0m         \u001b[1;32mfrom\u001b[0m \u001b[1;33m.\u001b[0m\u001b[0mmetrics\u001b[0m \u001b[1;32mimport\u001b[0m \u001b[0maccuracy_score\u001b[0m\u001b[1;33m\u001b[0m\u001b[1;33m\u001b[0m\u001b[0m\n\u001b[0;32m    650\u001b[0m \u001b[1;33m\u001b[0m\u001b[0m\n\u001b[1;32m--> 651\u001b[1;33m         \u001b[1;32mreturn\u001b[0m \u001b[0maccuracy_score\u001b[0m\u001b[1;33m(\u001b[0m\u001b[0my\u001b[0m\u001b[1;33m,\u001b[0m \u001b[0mself\u001b[0m\u001b[1;33m.\u001b[0m\u001b[0mpredict\u001b[0m\u001b[1;33m(\u001b[0m\u001b[0mX\u001b[0m\u001b[1;33m)\u001b[0m\u001b[1;33m,\u001b[0m \u001b[0msample_weight\u001b[0m\u001b[1;33m=\u001b[0m\u001b[0msample_weight\u001b[0m\u001b[1;33m)\u001b[0m\u001b[1;33m\u001b[0m\u001b[1;33m\u001b[0m\u001b[0m\n\u001b[0m\u001b[0;32m    652\u001b[0m \u001b[1;33m\u001b[0m\u001b[0m\n\u001b[0;32m    653\u001b[0m     \u001b[1;32mdef\u001b[0m \u001b[0m_more_tags\u001b[0m\u001b[1;33m(\u001b[0m\u001b[0mself\u001b[0m\u001b[1;33m)\u001b[0m\u001b[1;33m:\u001b[0m\u001b[1;33m\u001b[0m\u001b[1;33m\u001b[0m\u001b[0m\n",
            "\u001b[1;32mc:\\users\\reg\\appdata\\local\\programs\\python\\python37\\lib\\site-packages\\sklearn\\neighbors\\_classification.py\u001b[0m in \u001b[0;36mpredict\u001b[1;34m(self, X)\u001b[0m\n\u001b[0;32m    567\u001b[0m         \"\"\"\n\u001b[0;32m    568\u001b[0m \u001b[1;33m\u001b[0m\u001b[0m\n\u001b[1;32m--> 569\u001b[1;33m         \u001b[0mprobs\u001b[0m \u001b[1;33m=\u001b[0m \u001b[0mself\u001b[0m\u001b[1;33m.\u001b[0m\u001b[0mpredict_proba\u001b[0m\u001b[1;33m(\u001b[0m\u001b[0mX\u001b[0m\u001b[1;33m)\u001b[0m\u001b[1;33m\u001b[0m\u001b[1;33m\u001b[0m\u001b[0m\n\u001b[0m\u001b[0;32m    570\u001b[0m         \u001b[0mclasses_\u001b[0m \u001b[1;33m=\u001b[0m \u001b[0mself\u001b[0m\u001b[1;33m.\u001b[0m\u001b[0mclasses_\u001b[0m\u001b[1;33m\u001b[0m\u001b[1;33m\u001b[0m\u001b[0m\n\u001b[0;32m    571\u001b[0m \u001b[1;33m\u001b[0m\u001b[0m\n",
            "\u001b[1;32mc:\\users\\reg\\appdata\\local\\programs\\python\\python37\\lib\\site-packages\\sklearn\\neighbors\\_classification.py\u001b[0m in \u001b[0;36mpredict_proba\u001b[1;34m(self, X)\u001b[0m\n\u001b[0;32m    630\u001b[0m                 \u001b[1;34m\"you can try using larger radius, \"\u001b[0m\u001b[1;33m\u001b[0m\u001b[1;33m\u001b[0m\u001b[0m\n\u001b[0;32m    631\u001b[0m                 \u001b[1;34m\"giving a label for outliers, \"\u001b[0m\u001b[1;33m\u001b[0m\u001b[1;33m\u001b[0m\u001b[0m\n\u001b[1;32m--> 632\u001b[1;33m                 \u001b[1;34m\"or considering removing them from your dataset.\"\u001b[0m \u001b[1;33m%\u001b[0m \u001b[0moutliers\u001b[0m\u001b[1;33m\u001b[0m\u001b[1;33m\u001b[0m\u001b[0m\n\u001b[0m\u001b[0;32m    633\u001b[0m             )\n\u001b[0;32m    634\u001b[0m \u001b[1;33m\u001b[0m\u001b[0m\n",
            "\u001b[1;31mValueError\u001b[0m: No neighbors found for test samples array([    4,     5,     6, ..., 74484, 74485, 74487], dtype=int64), you can try using larger radius, giving a label for outliers, or considering removing them from your dataset."
          ]
        }
      ]
    },
    {
      "cell_type": "code",
      "source": [],
      "metadata": {
        "id": "eUy6x3QaSlMX"
      },
      "execution_count": null,
      "outputs": []
    },
    {
      "cell_type": "markdown",
      "source": [
        "# Running Timing and Scoring for All Models\n"
      ],
      "metadata": {
        "id": "IJqGyzavSms1"
      }
    },
    {
      "cell_type": "code",
      "source": [
        "import csv\n",
        "\n",
        "models = [\n",
        "          [KNeighborsClassifier(n_neighbors=5,n_jobs=-1),\"KNN, K=5\"],\n",
        "          [KNeighborsClassifier(n_neighbors=6,weights='distance',n_jobs=-1),\"KNN, Distance K=6\"],\n",
        "          [tree.DecisionTreeClassifier(criterion=\"entropy\"),\"Decision Tree, criterion=entropy\"],\n",
        "          [tree.DecisionTreeClassifier(criterion=\"gini\"),\"Decision Tree, criterion=gini\"],\n",
        "          [ensemble.RandomForestClassifier(n_estimators=110,n_jobs=-1),\"Random Forest, n estimator = 110\"],\n",
        "          [ensemble.RandomForestClassifier(n_estimators=150,n_jobs=-1),\"Random Forest, n estimator = 150\"]\n",
        "          ]\n",
        "\n",
        "#stratified code split should be from the training data\n",
        "#df = training data from original train test split\n",
        "df_data = df.iloc[:,1:].values #data\n",
        "df_class = df.iloc[:,0].values #features\n",
        "\n",
        "#sets up n_splits \n",
        "splitter = model_selection.StratifiedShuffleSplit(n_splits=5,test_size=0.2)\n",
        "for train_ids, test_ids in splitter.split(df_data, df_class):\n",
        "  df_train = df.iloc[train_ids,:]\n",
        "  df_test = df.iloc[test_ids,:]\n",
        "\n",
        "  column_name = [\"Model\",\"Fit Time\",\"Score Time\",\"Score\"]\n",
        "  model_data = [column_name]\n",
        "  for model in models:\n",
        "    model_spec = model[0]\n",
        "\n",
        "    start = time.time()\n",
        "    model_spec.fit(df_train_mat,df_train_mat_class)\n",
        "    stop = time.time()\n",
        "\n",
        "    fit_time = stop - start\n",
        "\n",
        "    start = time.time()\n",
        "    model_score = model_spec.score(df_test_mat,df_test_mat_class)\n",
        "    stop = time.time()\n",
        "\n",
        "    score_time = stop-start\n",
        "    #store info for future use\n",
        "    model_data.append([model[1],fit_time,score_time,model_score])\n",
        "    print(model[1],\"|\",fit_time,\"|\",score_time,\"|\",model_score)\n",
        "\n"
      ],
      "metadata": {
        "colab": {
          "base_uri": "https://localhost:8080/"
        },
        "id": "Hbf68C4QU3-D",
        "outputId": "0b3124db-cd33-4506-989e-04f3e1a0a764"
      },
      "execution_count": null,
      "outputs": [
        {
          "output_type": "stream",
          "name": "stdout",
          "text": [
            "KNN, K=5 | 0.016500234603881836 | 587.3760001659393 | 0.9593905222177473\n",
            "KNN, Distance K=6 | 0.01600503921508789 | 579.8799948692322 | 0.9848704524097194\n",
            "Decision Tree, criterion=entropy | 66.1510078907013 | 0.1304924488067627 | 0.9587058665592697\n",
            "Decision Tree, criterion=gini | 72.73250102996826 | 0.12549877166748047 | 0.9551886159216002\n",
            "Random Forest, n estimator = 110 | 36.76049733161926 | 1.0874989032745361 | 0.9878238689757014\n",
            "Random Forest, n estimator = 150 | 49.19368314743042 | 1.4444966316223145 | 0.9880655121492817\n"
          ]
        }
      ]
    },
    {
      "cell_type": "code",
      "source": [
        "  model_data.append([model[1],fit_time,score_time,model_score])\n",
        "  "
      ],
      "metadata": {
        "id": "u0ae94EgcUix"
      },
      "execution_count": null,
      "outputs": []
    },
    {
      "cell_type": "code",
      "source": [
        "print(model_data)"
      ],
      "metadata": {
        "colab": {
          "base_uri": "https://localhost:8080/"
        },
        "id": "q3a2lc_ncYyA",
        "outputId": "f82ff2bc-b9e9-4c79-b2ce-a6751513f4fe"
      },
      "execution_count": null,
      "outputs": [
        {
          "output_type": "stream",
          "name": "stdout",
          "text": [
            "[['KNN, K=5', -0.016499996185302734, -595.9049072265625, 0.9593905222177473]]\n"
          ]
        }
      ]
    },
    {
      "cell_type": "code",
      "source": [
        "with open(folderloc + \"model_data.csv\", \"w\") as f:\n",
        "  writer = csv.writer(f)\n",
        "  writer.writerows(model_data)"
      ],
      "metadata": {
        "id": "XmBGQ6rEXIr-"
      },
      "execution_count": null,
      "outputs": []
    },
    {
      "cell_type": "code",
      "source": [
        "#stratified code split\n",
        "df_data = df.iloc[:,1:].values\n",
        "df_class = df.iloc[:,0].values\n",
        "#n_splits is how many times the for loop for .split will run\n",
        "#each split is independent of each other and will generate indices needed to make the train and test sets\n",
        "## This is useful for rerunning tests/models with different train/test set combinations\n",
        "#the train and test set will have the same distributions of labels(classes/features/etc) from the original dataset\n",
        "splitter = model_selection.StratifiedShuffleSplit(n_splits=1,test_size=0.2)\n",
        "for train_ids, test_ids in splitter.split(df_data, df_class):\n",
        "  df_train = df.iloc[train_ids,:]\n",
        "  df_test = df.iloc[test_ids,:]\n",
        "  # X_train, y_train = df_data[train_ids], df_class[train_ids]\n",
        "  # X_test, y_test = df_data[test_ids], df_class[test_ids]"
      ],
      "metadata": {
        "id": "ZxZj2WWBjBZZ"
      },
      "execution_count": null,
      "outputs": []
    },
    {
      "cell_type": "code",
      "source": [
        "models = [\n",
        "          [KNeighborsClassifier(n_neighbors=5,n_jobs=-1,algorithm=\"ball_tree\"),\"KNN BT, K=5\"],\n",
        "          [KNeighborsClassifier(n_neighbors=5,n_jobs=-1,algorithm=\"kd_tree\"),\"KNN KD, K=5\"],\n",
        "          # [KNeighborsClassifier(n_neighbors=6,weights='distance',n_jobs=-1,algorithm=\"kd_tree\"),\"KNN KD, Distance K=6\"],\n",
        "          \n",
        "          # [KNeighborsClassifier(n_neighbors=6,weights='distance',n_jobs=-1,algorithm=\"ball_tree\"),\"KNN BT, Distance K=6\"]\n",
        "          ]\n",
        "\n",
        "column_name = [\"Model\",\"Fit Time\",\"Score Time\",\"Score\"]\n",
        "model_data = [column_name]\n",
        "for model in models:\n",
        "  model_spec = model[0]\n",
        "\n",
        "  start = time.time()\n",
        "  model_spec.fit(df_train_mat,df_train_mat_class)\n",
        "  stop = time.time()\n",
        "\n",
        "  fit_time = stop - start\n",
        "\n",
        "  start = time.time()\n",
        "  model_score = model_spec.score(df_test_mat,df_test_mat_class)\n",
        "  stop = time.time()\n",
        "\n",
        "  score_time = stop-start\n",
        "  #store info for future use\n",
        "  model_data.append([model[1],fit_time,score_time,model_score])\n",
        "  print(model[1],\"|\",fit_time,\"|\",score_time,\"|\",model_score)"
      ],
      "metadata": {
        "id": "tTiRjA2OlhPa"
      },
      "execution_count": null,
      "outputs": []
    },
    {
      "cell_type": "markdown",
      "source": [
        "# Other stuff below for testing"
      ],
      "metadata": {
        "id": "zvpnVhzjvp14"
      }
    },
    {
      "cell_type": "code",
      "source": [
        "input_train.info()"
      ],
      "metadata": {
        "colab": {
          "base_uri": "https://localhost:8080/"
        },
        "id": "KzxDyIIIUGOk",
        "outputId": "4b69daf8-b2bd-4684-eb8f-00b2391d9faa"
      },
      "execution_count": null,
      "outputs": [
        {
          "output_type": "stream",
          "name": "stdout",
          "text": [
            "<class 'pandas.core.frame.DataFrame'>\n",
            "RangeIndex: 297960 entries, 0 to 297959\n",
            "Columns: 785 entries, 0 to 0.648\n",
            "dtypes: int64(785)\n",
            "memory usage: 1.7 GB\n"
          ]
        }
      ]
    },
    {
      "cell_type": "code",
      "execution_count": null,
      "metadata": {
        "colab": {
          "base_uri": "https://localhost:8080/",
          "height": 165
        },
        "id": "GbaR9dbAsx1U",
        "outputId": "b2de69fa-ec58-491c-94ed-9acd6ce04386"
      },
      "outputs": [
        {
          "output_type": "error",
          "ename": "NameError",
          "evalue": "ignored",
          "traceback": [
            "\u001b[1;31m---------------------------------------------------------------------------\u001b[0m",
            "\u001b[1;31mNameError\u001b[0m                                 Traceback (most recent call last)",
            "\u001b[1;32m~\\AppData\\Local\\Temp\\ipykernel_15852\\3771845804.py\u001b[0m in \u001b[0;36m<module>\u001b[1;34m\u001b[0m\n\u001b[1;32m----> 1\u001b[1;33m \u001b[0mdf\u001b[0m\u001b[1;33m.\u001b[0m\u001b[0minfo\u001b[0m\u001b[1;33m(\u001b[0m\u001b[1;33m)\u001b[0m\u001b[1;33m\u001b[0m\u001b[1;33m\u001b[0m\u001b[0m\n\u001b[0m",
            "\u001b[1;31mNameError\u001b[0m: name 'df' is not defined"
          ]
        }
      ],
      "source": [
        "df.info()"
      ]
    },
    {
      "cell_type": "code",
      "execution_count": null,
      "metadata": {
        "colab": {
          "base_uri": "https://localhost:8080/"
        },
        "id": "BaM5PEAs9QYs",
        "outputId": "c676dbb1-7e07-40a7-97a1-3632e5ff54a4"
      },
      "outputs": [
        {
          "output_type": "execute_result",
          "data": {
            "text/plain": [
              "14    57825\n",
              "18    48419\n",
              "20    29008\n",
              "2     23409\n",
              "19    22495\n",
              "15    19341\n",
              "13    19010\n",
              "0     13869\n",
              "12    12336\n",
              "11    11586\n",
              "17    11566\n",
              "4     11440\n",
              "24    10859\n",
              "22    10784\n",
              "3     10134\n",
              "1      8668\n",
              "9      8493\n",
              "7      7218\n",
              "23     6272\n",
              "25     6076\n",
              "16     5812\n",
              "6      5762\n",
              "10     5603\n",
              "21     4182\n",
              "5      1163\n",
              "8      1120\n",
              "Name: 0, dtype: int64"
            ]
          },
          "metadata": {},
          "execution_count": 4
        }
      ],
      "source": [
        "df.iloc[:,0].value_counts()"
      ]
    },
    {
      "cell_type": "code",
      "execution_count": null,
      "metadata": {
        "colab": {
          "base_uri": "https://localhost:8080/"
        },
        "id": "Dg52hR2jthR7",
        "outputId": "a3c75e85-76cb-43b4-cf4a-a761e962aa10"
      },
      "outputs": [
        {
          "output_type": "stream",
          "name": "stdout",
          "text": [
            "[  0   0   0   0   0   0   0   0   0   0   0   0   0   0   0   0   0   0   0   0   0   0   0   0   0   0   0   0\n",
            "   0   0   0   0   0   0   0   0   0   0   0   0   0   0   0   0   0   0   0   0   0   0   0   0   0   0   0   0\n",
            "   0   0   0   0   0   0   0   0   0   0   0   0   0   0   0   0   0   0   0   0   0   0   0   0   0   0   0   0\n",
            "   0   0   0   0   0   0   0   0   0   0   0   0   0   0   0   0   0   0   0   0   0   0   0   0   0   0   0   0\n",
            "   0   0   0   0   0   0   0   0   0   0   0   0   0   0   0   0   0   0   0   0   0  20 114 224   0   0   0   0\n",
            "   0   0   0   0   0   0   0   0   0   0   0   0   0   0   0   0   0   0   0  10  87 188 226 255   0   0   0   0\n",
            "   0   0   0   0   0   0   0   0   0   0   0   0   0   0   0   0   0   0  44 167 177  51 223 137   0   0   0   0\n",
            "   0   0   0   0   0   0   0   0   0   0   0   0   0   0   0   0   5 113 206 118   0  83 255  20   0   0   0   0\n",
            "   0   0   0   0   0   0   0   0   0   0   0   0   0   0   0  25 142 206  44   0   0 191 102   1   0   0   0   0\n",
            "   0   0   0   0   0   0   0   0   0   0   0   0   0   0  32 189 178  18   0   5 181 169  12   0   0   0   0   0\n",
            "   0   0   0   0   0   0   0   0   0   0   0   0   0  37 233 157   0   0   0 137 230  15   0   0   0   0   0   0\n",
            "   0   0   0   0   0   0   0   0   0   0   0   0  60 237 146   4   0   7 109 237  78   0   0   0   0   0   0   0\n",
            "   0   0   0   0   0   0   0   0   0   0   0 113 255 196   0   0   5 167 255 255  64   0   0   0   0   0   0   0\n",
            "   0   0   0   0   0   0   0   0   0   0 110 243 243  27   0  74 191 243 175 249 157   0   0   0   0   0   0   0\n",
            "   0   0   0   0   0   0   0   0   0  86 243 245  49   0  94 249 243  61   4 237  78   0   0   0   0   0   0   0\n",
            "   0   0   0   0   0   0   0   0  53 222 219  31   0   0  53 143  39   0  69 255  69   0   0   0   0   0   0   0\n",
            "   0   0   0   0   0   0   0  39 240 248  47   0   0   0   0   0   0   0 137 201   0   0   0   0   0   0   0   0\n",
            "   0   0   0   0   0   0  15 172 250  64   0   0   0   0   0   0   0  54 240  78   0   0   0   0   0   0   0   0\n",
            "   0   0   0   0 129  18 132 255 137   0   0   0   0   0   0   0  37 228 102   1   0   0   0   0   0   0   0   0\n",
            "   0   0   0   0 172 218 243 221  25   0   0   0   0   0   0  64 205 129   0   0   0   0   0   0   0   0   0   0\n",
            "   0   0   0   0  98 255 255  98   0   0   0   0   0   5  93 240 132   0   0   0   0   0   0   0   0   0   0   0\n",
            "   0   0   0   0  98 255 255 152  15   0   0   0  54 147 244  94   0   0   0   0   0   0   0   0   0   0   0   0\n",
            "   0   0   0   0  49 230 191 250 227 143 143 192 250 154  37   0   0   0   0   0   0   0   0   0   0   0   0   0\n",
            "   0   0   0   0   0  10   0  39 151 237 255 157  64   0   0   0   0   0   0   0   0   0   0   0   0   0   0   0\n",
            "   0   0   0   0   0   0   0   0   0   0   0   0   0   0   0   0   0   0   0   0   0   0   0   0   0   0   0   0\n",
            "   0   0   0   0   0   0   0   0   0   0   0   0   0   0   0   0   0   0   0   0   0   0   0   0   0   0   0   0\n",
            "   0   0   0   0   0   0   0   0   0   0   0   0   0   0   0   0   0   0   0   0   0   0   0   0   0   0   0   0\n",
            "   0   0   0   0   0   0   0   0   0   0   0   0   0   0   0   0   0   0   0   0   0   0   0   0   0   0   0   0]\n",
            "<class 'numpy.ndarray'>\n",
            "(784,)\n"
          ]
        }
      ],
      "source": [
        "row1 = df.iloc[16290,:].values\n",
        "row1 = row1[1:785]\n",
        "\n",
        "print(row1)\n",
        "print(type(row1))\n",
        "print(row1.shape)\n"
      ]
    },
    {
      "cell_type": "code",
      "execution_count": null,
      "metadata": {
        "id": "igfF-co9u81_"
      },
      "outputs": [],
      "source": [
        "mat1 = np.resize(row1, (28, 28))"
      ]
    },
    {
      "cell_type": "code",
      "execution_count": null,
      "metadata": {
        "colab": {
          "base_uri": "https://localhost:8080/"
        },
        "id": "x14koVoEv-QZ",
        "outputId": "b3c9136e-1cc4-4245-c29f-4bdf8a781cbd"
      },
      "outputs": [
        {
          "output_type": "stream",
          "name": "stdout",
          "text": [
            "[[  0   0   0   0   0   0   0   0   0   0   0   0   0   0   0   0   0   0   0   0   0   0   0   0   0   0   0   0]\n",
            " [  0   0   0   0   0   0   0   0   0   0   0   0   0   0   0   0   0   0   0   0   0   0   0   0   0   0   0   0]\n",
            " [  0   0   0   0   0   0   0   0   0   0   0   0   0   0   0   0   0   0   0   0   0   0   0   0   0   0   0   0]\n",
            " [  0   0   0   0   0   0   0   0   0   0   0   0   0   0   0   0   0   0   0   0   0   0   0   0   0   0   0   0]\n",
            " [  0   0   0   0   0   0   0   0   0   0   0   0   0   0   0   0   0   0   0   0   0  20 114 224   0   0   0   0]\n",
            " [  0   0   0   0   0   0   0   0   0   0   0   0   0   0   0   0   0   0   0  10  87 188 226 255   0   0   0   0]\n",
            " [  0   0   0   0   0   0   0   0   0   0   0   0   0   0   0   0   0   0  44 167 177  51 223 137   0   0   0   0]\n",
            " [  0   0   0   0   0   0   0   0   0   0   0   0   0   0   0   0   5 113 206 118   0  83 255  20   0   0   0   0]\n",
            " [  0   0   0   0   0   0   0   0   0   0   0   0   0   0   0  25 142 206  44   0   0 191 102   1   0   0   0   0]\n",
            " [  0   0   0   0   0   0   0   0   0   0   0   0   0   0  32 189 178  18   0   5 181 169  12   0   0   0   0   0]\n",
            " [  0   0   0   0   0   0   0   0   0   0   0   0   0  37 233 157   0   0   0 137 230  15   0   0   0   0   0   0]\n",
            " [  0   0   0   0   0   0   0   0   0   0   0   0  60 237 146   4   0   7 109 237  78   0   0   0   0   0   0   0]\n",
            " [  0   0   0   0   0   0   0   0   0   0   0 113 255 196   0   0   5 167 255 255  64   0   0   0   0   0   0   0]\n",
            " [  0   0   0   0   0   0   0   0   0   0 110 243 243  27   0  74 191 243 175 249 157   0   0   0   0   0   0   0]\n",
            " [  0   0   0   0   0   0   0   0   0  86 243 245  49   0  94 249 243  61   4 237  78   0   0   0   0   0   0   0]\n",
            " [  0   0   0   0   0   0   0   0  53 222 219  31   0   0  53 143  39   0  69 255  69   0   0   0   0   0   0   0]\n",
            " [  0   0   0   0   0   0   0  39 240 248  47   0   0   0   0   0   0   0 137 201   0   0   0   0   0   0   0   0]\n",
            " [  0   0   0   0   0   0  15 172 250  64   0   0   0   0   0   0   0  54 240  78   0   0   0   0   0   0   0   0]\n",
            " [  0   0   0   0 129  18 132 255 137   0   0   0   0   0   0   0  37 228 102   1   0   0   0   0   0   0   0   0]\n",
            " [  0   0   0   0 172 218 243 221  25   0   0   0   0   0   0  64 205 129   0   0   0   0   0   0   0   0   0   0]\n",
            " [  0   0   0   0  98 255 255  98   0   0   0   0   0   5  93 240 132   0   0   0   0   0   0   0   0   0   0   0]\n",
            " [  0   0   0   0  98 255 255 152  15   0   0   0  54 147 244  94   0   0   0   0   0   0   0   0   0   0   0   0]\n",
            " [  0   0   0   0  49 230 191 250 227 143 143 192 250 154  37   0   0   0   0   0   0   0   0   0   0   0   0   0]\n",
            " [  0   0   0   0   0  10   0  39 151 237 255 157  64   0   0   0   0   0   0   0   0   0   0   0   0   0   0   0]\n",
            " [  0   0   0   0   0   0   0   0   0   0   0   0   0   0   0   0   0   0   0   0   0   0   0   0   0   0   0   0]\n",
            " [  0   0   0   0   0   0   0   0   0   0   0   0   0   0   0   0   0   0   0   0   0   0   0   0   0   0   0   0]\n",
            " [  0   0   0   0   0   0   0   0   0   0   0   0   0   0   0   0   0   0   0   0   0   0   0   0   0   0   0   0]\n",
            " [  0   0   0   0   0   0   0   0   0   0   0   0   0   0   0   0   0   0   0   0   0   0   0   0   0   0   0   0]]\n"
          ]
        }
      ],
      "source": [
        "\n",
        "print(mat1)"
      ]
    },
    {
      "cell_type": "code",
      "execution_count": null,
      "metadata": {
        "id": "L9zk9GiAwZOK"
      },
      "outputs": [],
      "source": [
        "im = Image.fromarray(mat1.astype(np.uint8))"
      ]
    },
    {
      "cell_type": "code",
      "execution_count": null,
      "metadata": {
        "colab": {
          "base_uri": "https://localhost:8080/",
          "height": 45
        },
        "id": "RtP1WjcKxHAF",
        "outputId": "87b975e0-7d5c-414e-ebfa-3859302846a7"
      },
      "outputs": [
        {
          "output_type": "execute_result",
          "data": {
            "text/plain": [
              "<PIL.Image.Image image mode=L size=28x28 at 0x7F9CFD97E990>"
            ],
            "image/png": "[encoded data removed]"
          },
          "metadata": {},
          "execution_count": 27
        }
      ],
      "source": [
        "im"
      ]
    },
    {
      "cell_type": "markdown",
      "metadata": {
        "id": "bnt161mqs_pZ"
      },
      "source": []
    },
    {
      "cell_type": "code",
      "source": [
        "!pip install pytesseract\n",
        "!sudo apt install tesseract-ocr\n",
        "from pytesseract import image_to_string\n",
        "from PIL import Image\n",
        "\n"
      ],
      "metadata": {
        "colab": {
          "base_uri": "https://localhost:8080/"
        },
        "id": "qOr5fwKsar-o",
        "outputId": "46a7d12e-5773-4d70-f4f7-1e4928fb81fb"
      },
      "execution_count": null,
      "outputs": [
        {
          "output_type": "stream",
          "name": "stdout",
          "text": [
            "Looking in indexes: https://pypi.org/simple, https://us-python.pkg.dev/colab-wheels/public/simple/\n",
            "Requirement already satisfied: pytesseract in /usr/local/lib/python3.7/dist-packages (0.3.10)\n",
            "Requirement already satisfied: Pillow>=8.0.0 in /usr/local/lib/python3.7/dist-packages (from pytesseract) (9.3.0)\n",
            "Requirement already satisfied: packaging>=21.3 in /usr/local/lib/python3.7/dist-packages (from pytesseract) (21.3)\n",
            "Requirement already satisfied: pyparsing!=3.0.5,>=2.0.2 in /usr/local/lib/python3.7/dist-packages (from packaging>=21.3->pytesseract) (3.0.9)\n",
            "Reading package lists... Done\n",
            "Building dependency tree       \n",
            "Reading state information... Done\n",
            "The following package was automatically installed and is no longer required:\n",
            "  libnvidia-common-460\n",
            "Use 'sudo apt autoremove' to remove it.\n",
            "The following additional packages will be installed:\n",
            "  tesseract-ocr-eng tesseract-ocr-osd\n",
            "The following NEW packages will be installed:\n",
            "  tesseract-ocr tesseract-ocr-eng tesseract-ocr-osd\n",
            "0 upgraded, 3 newly installed, 0 to remove and 5 not upgraded.\n",
            "Need to get 4,795 kB of archives.\n",
            "After this operation, 15.8 MB of additional disk space will be used.\n",
            "Get:1 http://archive.ubuntu.com/ubuntu bionic/universe amd64 tesseract-ocr-eng all 4.00~git24-0e00fe6-1.2 [1,588 kB]\n",
            "Get:2 http://archive.ubuntu.com/ubuntu bionic/universe amd64 tesseract-ocr-osd all 4.00~git24-0e00fe6-1.2 [2,989 kB]\n",
            "Get:3 http://archive.ubuntu.com/ubuntu bionic/universe amd64 tesseract-ocr amd64 4.00~git2288-10f4998a-2 [218 kB]\n",
            "Fetched 4,795 kB in 0s (9,744 kB/s)\n",
            "debconf: unable to initialize frontend: Dialog\n",
            "debconf: (No usable dialog-like program is installed, so the dialog based frontend cannot be used. at /usr/share/perl5/Debconf/FrontEnd/Dialog.pm line 76, <> line 3.)\n",
            "debconf: falling back to frontend: Readline\n",
            "debconf: unable to initialize frontend: Readline\n",
            "debconf: (This frontend requires a controlling tty.)\n",
            "debconf: falling back to frontend: Teletype\n",
            "dpkg-preconfigure: unable to re-open stdin: \n",
            "Selecting previously unselected package tesseract-ocr-eng.\n",
            "(Reading database ... 123991 files and directories currently installed.)\n",
            "Preparing to unpack .../tesseract-ocr-eng_4.00~git24-0e00fe6-1.2_all.deb ...\n",
            "Unpacking tesseract-ocr-eng (4.00~git24-0e00fe6-1.2) ...\n",
            "Selecting previously unselected package tesseract-ocr-osd.\n",
            "Preparing to unpack .../tesseract-ocr-osd_4.00~git24-0e00fe6-1.2_all.deb ...\n",
            "Unpacking tesseract-ocr-osd (4.00~git24-0e00fe6-1.2) ...\n",
            "Selecting previously unselected package tesseract-ocr.\n",
            "Preparing to unpack .../tesseract-ocr_4.00~git2288-10f4998a-2_amd64.deb ...\n",
            "Unpacking tesseract-ocr (4.00~git2288-10f4998a-2) ...\n",
            "Setting up tesseract-ocr-osd (4.00~git24-0e00fe6-1.2) ...\n",
            "Setting up tesseract-ocr-eng (4.00~git24-0e00fe6-1.2) ...\n",
            "Setting up tesseract-ocr (4.00~git2288-10f4998a-2) ...\n",
            "Processing triggers for man-db (2.8.3-2ubuntu0.1) ...\n"
          ]
        }
      ]
    },
    {
      "cell_type": "code",
      "source": [
        "backup_im = im\n",
        "im"
      ],
      "metadata": {
        "colab": {
          "base_uri": "https://localhost:8080/",
          "height": 45
        },
        "id": "yTzigNQfc3gH",
        "outputId": "a21246a5-b7ef-4155-ebdc-06550a25293d"
      },
      "execution_count": null,
      "outputs": [
        {
          "output_type": "execute_result",
          "data": {
            "text/plain": [
              "<PIL.Image.Image image mode=L size=28x28>"
            ],
            "image/png": "[encoded data removed]"
          },
          "metadata": {},
          "execution_count": 44
        }
      ]
    },
    {
      "cell_type": "code",
      "source": [
        "folderloc = \"/drive/Shareddrives/CMPE 255 - Team Project/\"\n"
      ],
      "metadata": {
        "id": "N0Ob5mZndrxA"
      },
      "execution_count": null,
      "outputs": []
    },
    {
      "cell_type": "code",
      "source": [
        "from PIL import ImageOps, ImageEnhance"
      ],
      "metadata": {
        "id": "w8kNSjPmlm09"
      },
      "execution_count": null,
      "outputs": []
    },
    {
      "cell_type": "code",
      "source": [
        "im = backup_im"
      ],
      "metadata": {
        "id": "VMhMKfBDi95h"
      },
      "execution_count": null,
      "outputs": []
    },
    {
      "cell_type": "code",
      "source": [
        "im = im.resize((128,128))\n",
        "im = ImageOps.invert(im)\n",
        "enhancer = ImageEnhance.Sharpness(im)\n",
        "im = enhancer.enhance(10)"
      ],
      "metadata": {
        "id": "cTFbQeCxjB0z"
      },
      "execution_count": null,
      "outputs": []
    },
    {
      "cell_type": "code",
      "source": [
        "im"
      ],
      "metadata": {
        "colab": {
          "base_uri": "https://localhost:8080/",
          "height": 145
        },
        "id": "YSxtuCZWjLOO",
        "outputId": "bfed7027-44d7-40d8-9e29-1a6b88754d94"
      },
      "execution_count": null,
      "outputs": [
        {
          "output_type": "execute_result",
          "data": {
            "text/plain": [
              "<PIL.Image.Image image mode=L size=128x128>"
            ],
            "image/png": "[encoded data removed]"
          },
          "metadata": {},
          "execution_count": 79
        }
      ]
    },
    {
      "cell_type": "code",
      "source": [
        "text = image_to_string(\"/content/drive/Shareddrives/CMPE 255 - Team Project/A.png\",config=(\" --psm 10\"))\n",
        "print(text)"
      ],
      "metadata": {
        "colab": {
          "base_uri": "https://localhost:8080/"
        },
        "id": "q4Q07KTWbELi",
        "outputId": "1ecfae1f-1dec-4999-a4b7-a3e81709c4e3"
      },
      "execution_count": null,
      "outputs": [
        {
          "output_type": "stream",
          "name": "stdout",
          "text": [
            "A\n",
            "\f\n"
          ]
        }
      ]
    }
  ],
  "metadata": {
    "colab": {
      "provenance": [],
      "collapsed_sections": [
        "Rf1iFEFYxHvu",
        "yCvoDUSRxjK9",
        "iRO0t946vyCE",
        "mdHZg8tXgoio",
        "cxhl7W9oFoVm",
        "z-65U64_xGFN",
        "IUJptERQv7xv",
        "DAVY3bfKxQ2e",
        "zvpnVhzjvp14"
      ],
      "toc_visible": true
    },
    "kernelspec": {
      "display_name": "Python 3",
      "name": "python3"
    },
    "language_info": {
      "name": "python"
    }
  },
  "nbformat": 4,
  "nbformat_minor": 0
}