{
  "cells": [
    {
      "cell_type": "code",
      "source": [
        "import sys\n",
        "print ('Running in colab:', 'google.colab' in sys.modules)\n",
        "if 'google.colab' in sys.modules:\n",
        "  folderloc = \"drive/MyDrive/CMPE 255/\"\n",
        "else:\n",
        "  folderloc = \"Documents/SJSU/FALL_2022/\""
      ],
      "metadata": {
        "colab": {
          "base_uri": "https://localhost:8080/"
        },
        "id": "7WZQXW9DkqAm",
        "outputId": "547a327e-4cdb-4389-fc09-e770e28fab66"
      },
      "execution_count": null,
      "outputs": [
        {
          "output_type": "stream",
          "name": "stdout",
          "text": [
            "Running in colab: False\n"
          ]
        }
      ]
    },
    {
      "cell_type": "markdown",
      "source": [
        "#Import File"
      ],
      "metadata": {
        "id": "7HeBagnRxXoG"
      }
    },
    {
      "cell_type": "code",
      "execution_count": null,
      "metadata": {
        "id": "_Je0dP8YslYV"
      },
      "outputs": [],
      "source": [
        "import pandas as pd\n",
        "import numpy as np\n",
        "from sklearn import model_selection\n",
        "from PIL import Image\n",
        "from sklearn.neighbors import KNeighborsClassifier\n",
        "\n",
        "np.set_printoptions(linewidth=115)\n"
      ]
    },
    {
      "cell_type": "code",
      "execution_count": null,
      "metadata": {
        "id": "Ev0vqj0mwchX"
      },
      "outputs": [],
      "source": [
        "# input_file = folderloc + \"A_Z Handwritten Data.csv\"\n",
        "# df = pd.read_csv(input_file, header = 0)"
      ]
    },
    {
      "cell_type": "code",
      "source": [
        "#code split\n",
        "# train, test = model_selection.train_test_split(df, test_size=0.20)\n",
        "# train.to_csv(folderloc+'train.csv',index = False)\n",
        "# test.to_csv(folderloc+'test.csv', index = False)"
      ],
      "metadata": {
        "id": "EJO8Fc_5QO50"
      },
      "execution_count": null,
      "outputs": []
    },
    {
      "cell_type": "markdown",
      "source": [
        "#Import Group Train/Test and view sample data"
      ],
      "metadata": {
        "id": "OddHipcixZm2"
      }
    },
    {
      "cell_type": "code",
      "source": [
        "input_train = pd.read_csv(folderloc + \"train.csv\",header = 0)\n"
      ],
      "metadata": {
        "id": "gZyu-ygMTQQ4"
      },
      "execution_count": null,
      "outputs": []
    },
    {
      "cell_type": "code",
      "source": [
        "input_test = pd.read_csv(folderloc + \"test.csv\",header = 0)"
      ],
      "metadata": {
        "id": "Y6GKMsSOY17F"
      },
      "execution_count": null,
      "outputs": []
    },
    {
      "cell_type": "code",
      "source": [
        "row = 0\n",
        "test_mat_1 = input_test.iloc[row,1:].values\n",
        "test_mat_1_label = input_test.iloc[row,0]\n",
        "print(test_mat_1)\n",
        "print(test_mat_1_label)"
      ],
      "metadata": {
        "colab": {
          "base_uri": "https://localhost:8080/"
        },
        "id": "Iafu-CabY8mV",
        "outputId": "9c6bd438-2f88-4154-f76b-d9c828f97351"
      },
      "execution_count": null,
      "outputs": [
        {
          "output_type": "stream",
          "name": "stdout",
          "text": [
            "[  0   0   0   0   0   0   0   0   0   0   0   0   0   0   0   0   0   0   0   0   0   0   0   0   0   0   0   0\n",
            "   0   0   0   0   0   0   0   0   0   0   0   0   0   0   0   0   0   0   0   0   0   0   0   0   0   0   0   0\n",
            "   0   0   0   0   0   0   0   0   0   0   0   0   0   0   0   0   0   0   0   0   0   0   0   0   0   0   0   0\n",
            "   0   0   0   0   0   0   0   0   0   0   0   0   0   0   0   0   0   0   0   0   0   0   0   0   0   0   0   0\n",
            "   0   0   0   0   0   0   0   0   0   0   0   0   0   0   0   0   0   0   0 147 244 160   0   0   0   0   0   0\n",
            "   0   0   0   0   0   0   0   0   0   0   0   0   0   0   0   0   0   0   0 186 255 209   0   0   0   0   0   0\n",
            "   0   0   0   0   0   0   0   0   0   0   0   0   0   0   0   0   0   0   0 186 255 209   0   0   0   0   0   0\n",
            "   0   0   0   0   0   0   0   0   0   0   0   0   0   0   0   0   0   0   0 186 255 209   0   0   0   0   0   0\n",
            "   0   0   0   0   0   0   0   0   0   0   0   0   0   0   0   0   0   0   0 186 255 216  12   0   0   0   0   0\n",
            "   0   0   0   0   0   0   0   0   0   0   0   0   0   0   0   0   0   0   0 158 255 226  30   0   0   0   0   0\n",
            "   0   0   0   0   0   0   0   0   0   0   0   0   0   0   0   0   0   0   0 123 255 232  52   0   0   0   0   0\n",
            "   0   0   0   0   0   0   0   0   0   0   0   0   0   0   0   0   0   0   0  92 253 238  79   0   0   0   0   0\n",
            "   0   0   0   0   0   0   0   0   0   0   0   0   0   0   0   0   0   0   0  65 239 246 111   0   0   0   0   0\n",
            "   0   0   0   0   0   0   0   0   0   0   0   0   0   0   0   0   0   0   0  48 218 253 142   4   0   0   0   0\n",
            "   0   0   0   0   0   0   0   0   0   0   0   0   0   0   0   0   0   0   0  24 181 255 178  21   0   0   0   0\n",
            "   0   0   0   0   0   0   0   0   0   0   0   0   0   0   0   0   0   0   0   8 153 254 209  42   0   0   0   0\n",
            "   0   0   0   0   2   3   0   0   0   0   0   0   0   0   0   0   0   0   0   1 114 247 239  65   0   0   0   0\n",
            "   0   0   0   0 100 118  39   0   0   0   0   0   0   0   0   0   0   0   0   0  67 235 254 108   0   0   0   0\n",
            "   0   0   0   0 236 253 150   2   0   0   0   0   0   0   0   0   0   0   0   0  21 224 255 162   0   0   0   0\n",
            "   0   0   0   0 132 248 240  97   7   0   0   0   0   0   0   0   0   0   0   0   1 182 255 221   0   0   0   0\n",
            "   0   0   0   0  28 171 251 223  99   2   0   0   0   0   0   0   0   0   0   0  10 174 255 246   0   0   0   0\n",
            "   0   0   0   0   1  27 174 246 241 162  74  31  20  15  12  16  21  29  53 129 199 243 239 146   0   0   0   0\n",
            "   0   0   0   0   0   0  17 114 189 246 253 227 188 169 159 175 195 225 251 252 218 162  83  11   0   0   0   0\n",
            "   0   0   0   0   0   0   0   3  29  78 134 188 222 247 253 235 217 182 135  86  49  14   0   0   0   0   0   0\n",
            "   0   0   0   0   0   0   0   0   0   0   0   0   0   0   0   0   0   0   0   0   0   0   0   0   0   0   0   0\n",
            "   0   0   0   0   0   0   0   0   0   0   0   0   0   0   0   0   0   0   0   0   0   0   0   0   0   0   0   0\n",
            "   0   0   0   0   0   0   0   0   0   0   0   0   0   0   0   0   0   0   0   0   0   0   0   0   0   0   0   0\n",
            "   0   0   0   0   0   0   0   0   0   0   0   0   0   0   0   0   0   0   0   0   0   0   0   0   0   0   0   0]\n",
            "9\n"
          ]
        }
      ]
    },
    {
      "cell_type": "code",
      "source": [
        "test_mat_1 = np.resize(test_mat_1, (28, 28))\n",
        "im = Image.fromarray(test_mat_1.astype(np.uint8))\n",
        "im"
      ],
      "metadata": {
        "colab": {
          "base_uri": "https://localhost:8080/",
          "height": 45
        },
        "id": "SoYBxMZOvc-f",
        "outputId": "06fecfe0-d71a-4f06-f82b-d844ddd00591"
      },
      "execution_count": null,
      "outputs": [
        {
          "output_type": "execute_result",
          "data": {
            "text/plain": [
              "<PIL.Image.Image image mode=L size=28x28>"
            ],
            "image/png": "[encoded data removed]"
          },
          "metadata": {},
          "execution_count": 29
        }
      ]
    },
    {
      "cell_type": "code",
      "source": [],
      "metadata": {
        "id": "QVmpAM1svhve"
      },
      "execution_count": null,
      "outputs": []
    },
    {
      "cell_type": "code",
      "source": [
        "input_test.info()\n",
        "input_train.info()"
      ],
      "metadata": {
        "colab": {
          "base_uri": "https://localhost:8080/"
        },
        "id": "q7GFmsmgZN_4",
        "outputId": "79e93ce1-6e09-4078-a36a-e9cdc5011498"
      },
      "execution_count": null,
      "outputs": [
        {
          "output_type": "stream",
          "name": "stdout",
          "text": [
            "<class 'pandas.core.frame.DataFrame'>\n",
            "RangeIndex: 74490 entries, 0 to 74489\n",
            "Columns: 785 entries, 0 to 0.648\n",
            "dtypes: int64(785)\n",
            "memory usage: 446.1 MB\n",
            "<class 'pandas.core.frame.DataFrame'>\n",
            "RangeIndex: 297960 entries, 0 to 297959\n",
            "Columns: 785 entries, 0 to 0.648\n",
            "dtypes: int64(785)\n",
            "memory usage: 1.7 GB\n"
          ]
        }
      ]
    },
    {
      "cell_type": "code",
      "source": [
        "test_mat = input_test.iloc[:,1:].values\n",
        "test_mat_class = input_test.iloc[:,0].values"
      ],
      "metadata": {
        "id": "PWaZTORJcsqR"
      },
      "execution_count": null,
      "outputs": []
    },
    {
      "cell_type": "code",
      "source": [
        "train_mat = input_train.iloc[:,1:].values"
      ],
      "metadata": {
        "id": "Gv0z00fNWa-7"
      },
      "execution_count": null,
      "outputs": []
    },
    {
      "cell_type": "code",
      "source": [
        "train_mat_class = input_train.iloc[:,0].values"
      ],
      "metadata": {
        "id": "OUwcvI-cYQuk"
      },
      "execution_count": null,
      "outputs": []
    },
    {
      "cell_type": "code",
      "source": [
        "train_mat[0,:]"
      ],
      "metadata": {
        "colab": {
          "base_uri": "https://localhost:8080/"
        },
        "id": "39HPMnIfWeFY",
        "outputId": "9cf09b4f-952c-4f59-b894-f6c6a8068379"
      },
      "execution_count": null,
      "outputs": [
        {
          "output_type": "execute_result",
          "data": {
            "text/plain": [
              "array([  0,   0,   0,   0,   0,   0,   0,   0,   0,   0,   0,   0,   0,   0,   0,   0,   0,   0,   0,   0,   0,\n",
              "         0,   0,   0,   0,   0,   0,   0,   0,   0,   0,   0,   0,   0,   0,   0,   0,   0,   0,   0,   0,   0,\n",
              "         0,   0,   0,   0,   0,   0,   0,   0,   0,   0,   0,   0,   0,   0,   0,   0,   0,   0,   0,   0,   0,\n",
              "         0,   0,   0,   0,   0,   0,   0,   0,   0,   0,   0,   0,   0,   0,   0,   0,   0,   0,   0,   0,   0,\n",
              "         0,   0,   0,   0,   0,   0,   0,   0,   0,   0,   0,   0,   0,   0,   0,   0,   0,   0,   0,   0,   0,\n",
              "         0,   0,   0,   0,   0,   0,   0,   0,   0,   0,   0,   0,   0,   0,   0,   0,   0,   0,   0,   0,   0,\n",
              "         0,  83, 255, 168,   0,   0,   0,   0,   0,   0,   0,   0,   0,   0,   0,   0,   0,   0,   0,   0,   0,\n",
              "         0,   0,   0,   0,   0,   0,   0,   0, 163, 255, 206,   0,   0,   0,   0,   0,   0,   0,   0,   0,   0,\n",
              "         0,   0,   0,   0,   0,   0,   0,   0,   0,   0,   0,   0,   0,   0,  39, 242, 255, 119,   0,   0,   0,\n",
              "         0,   0,   0,   0,   0,   0,   0,   0,   0,   0,   0,   0,   0,   0,   0,   0,   0,   0,   0,   0,   0,\n",
              "       114, 255, 255,  12,   0,   0,   0,   0,   0,   0,   0,   0,   0,   0,   0,   0,   0,   0,   0,   0,   0,\n",
              "         0,   0,   0,   0,   0,   0,  67, 255, 255, 168,   4,   0,   0,   0,   0,   0,   0,   0,   0,   0,   0,\n",
              "         0,   0,   0,   0,   0,   0,   0,   0,   0,   0,   0,   0,   0, 109, 255, 243,  36,   0,   0,   0,   0,\n",
              "         0,   0,   0,   0,   0,   0,   0,   0,   0,   0,   0,   0,   0,   0,   0,   0,   0,   0,   0,  12, 215,\n",
              "       255, 160,   0,   0,   0,   0,   0,   0,   0,   0,   0,   0,   0,   0,   0,   0,   0,   0,   0,   0,   0,\n",
              "         0,   0,   0,   0,   0, 143, 255, 222,  22,   0,   0,   0,   0,   0,   0,   0,   0,   0,   0,   0,   0,\n",
              "         0,   0,   0,   0,   0,   0,   0,   0,   0,   0,   0,  27, 240, 255, 194,   0,   0,   0,   0,   0,   0,\n",
              "         0,   0,   0,   0,   0,   0,   0,   0,   0,   0,   0,   0,   0,   0,   0,   0,   0,   0, 168, 255, 255,\n",
              "        80,   0,   0,   0,   0,   0,   0,   0,   0,   0,   0,   0,   0,   0,   0,   0,   0,   0,   0,   0,   0,\n",
              "         0,   0,   0,  12, 238, 255, 215,   0,   0,   0,   0,   0,   0,   0,   0,   0,   0,   0,   0,   0,   0,\n",
              "         0,   0,   0,   0,   0,   0,   0,   0,   0,   0, 170, 255, 246,  83,   0,   0,   0,   0,   0,   0,   0,\n",
              "         0,   0,   0,   0,   0,   0,   0,   0,   0,   0,   0,   0,   0,   0,   0,   0,  66, 228, 255, 137,   0,\n",
              "         0,   0,   0,   0,   0,   0,   0,   0,   0,   0,   0,   0,   0,   0,   0,   0,   0,   0,   0,   0,   0,\n",
              "         0,  23, 214, 255, 235,  50,   0,   0,   0,   0,   0,   0,   0,   0,   0,   0,   0,   0,   0,   0,   0,\n",
              "         0,   0,   0,   0,   0,   0,   0,  12, 168, 255, 255, 113,  25,  15,   0,   0,   0,   0,   0,   0,   0,\n",
              "         0,   0,   0,   0,   0,   0,   0,   0,   0,   0,   0,   0,   0,   0, 123, 255, 255, 255, 255, 255, 226,\n",
              "         0,   0,   0,   0,   0,   0,   0,   0,   0,   0,   0,   0,   0,   0,   0,   0,   0,   0,   0,   0,  69,\n",
              "       252, 255, 255, 253, 220, 238, 255, 141,   0,   0,   0,   0,   0,  18,  22,   0,   0,   0,   0,   0,   0,\n",
              "         0,   0,   0,   0,   0,   0, 196, 255, 255, 150,  62,   0,  99, 255, 240, 142,  60,   0,  39,  90, 215,\n",
              "       230,   0,   0,   0,   0,   0,   0,   0,   0,   0,   0,   0,   0, 141, 251, 139,   5,   0,   0,   1,  86,\n",
              "       238, 255, 252, 245, 249, 255, 255, 200,   0,   0,   0,   0,   0,   0,   0,   0,   0,   0,   0,   0,  13,\n",
              "        50,   0,   0,   0,   0,   0,   0,  58, 241, 255, 255, 255, 188, 141,  34,   0,   0,   0,   0,   0,   0,\n",
              "         0,   0,   0,   0,   0,   0,   0,   0,   0,   0,   0,   0,   0,   0,   0,   0,   0,   0,   0,   0,   0,\n",
              "         0,   0,   0,   0,   0,   0,   0,   0,   0,   0,   0,   0,   0,   0,   0,   0,   0,   0,   0,   0,   0,\n",
              "         0,   0,   0,   0,   0,   0,   0,   0,   0,   0,   0,   0,   0,   0,   0,   0,   0,   0,   0,   0,   0,\n",
              "         0,   0,   0,   0,   0,   0,   0,   0,   0,   0,   0,   0,   0,   0,   0,   0,   0,   0,   0,   0,   0,\n",
              "         0,   0,   0,   0,   0,   0,   0,   0,   0,   0,   0,   0,   0,   0,   0,   0,   0,   0,   0,   0,   0,\n",
              "         0,   0,   0,   0,   0,   0,   0], dtype=int64)"
            ]
          },
          "metadata": {},
          "execution_count": 12
        }
      ]
    },
    {
      "cell_type": "markdown",
      "source": [
        "#K Nearest Neighbor Classifier"
      ],
      "metadata": {
        "id": "Rf1iFEFYxHvu"
      }
    },
    {
      "cell_type": "code",
      "source": [
        "neigh = KNeighborsClassifier()"
      ],
      "metadata": {
        "id": "8KoApdRRXQ8l"
      },
      "execution_count": null,
      "outputs": []
    },
    {
      "cell_type": "code",
      "source": [
        "neigh.fit(train_mat, train_mat_class)"
      ],
      "metadata": {
        "colab": {
          "base_uri": "https://localhost:8080/"
        },
        "id": "EoIvfJwWYinY",
        "outputId": "4ea3f8a4-c39d-434a-d18a-2f9f6edfd616"
      },
      "execution_count": null,
      "outputs": [
        {
          "output_type": "execute_result",
          "data": {
            "text/plain": [
              "KNeighborsClassifier()"
            ]
          },
          "metadata": {},
          "execution_count": 15
        }
      ]
    },
    {
      "cell_type": "code",
      "source": [
        "pred = neigh.predict(test_mat)\n",
        "print(pred)"
      ],
      "metadata": {
        "colab": {
          "base_uri": "https://localhost:8080/"
        },
        "id": "mt2POcxyYtdH",
        "outputId": "0608ac19-d06f-4fc7-b425-7d2f14b8f869"
      },
      "execution_count": null,
      "outputs": [
        {
          "output_type": "stream",
          "name": "stdout",
          "text": [
            "[ 9 14  1 ... 13 14  7]\n"
          ]
        }
      ]
    },
    {
      "cell_type": "markdown",
      "source": [
        "#Scoring KNN"
      ],
      "metadata": {
        "id": "yCvoDUSRxjK9"
      }
    },
    {
      "cell_type": "code",
      "source": [
        "print(neigh.score(test_mat,test_mat_class))"
      ],
      "metadata": {
        "id": "XLFiGpaVc5TZ",
        "colab": {
          "base_uri": "https://localhost:8080/"
        },
        "outputId": "bb89ebcd-0e20-4997-88b6-631c78e87d8f"
      },
      "execution_count": null,
      "outputs": [
        {
          "output_type": "stream",
          "name": "stdout",
          "text": [
            "0.9588401127668144\n"
          ]
        }
      ]
    },
    {
      "cell_type": "code",
      "source": [],
      "metadata": {
        "id": "9WnIdtxknT7i"
      },
      "execution_count": null,
      "outputs": []
    },
    {
      "cell_type": "code",
      "source": [
        "input_train.info()"
      ],
      "metadata": {
        "colab": {
          "base_uri": "https://localhost:8080/"
        },
        "id": "KzxDyIIIUGOk",
        "outputId": "4b69daf8-b2bd-4684-eb8f-00b2391d9faa"
      },
      "execution_count": null,
      "outputs": [
        {
          "output_type": "stream",
          "name": "stdout",
          "text": [
            "<class 'pandas.core.frame.DataFrame'>\n",
            "RangeIndex: 297960 entries, 0 to 297959\n",
            "Columns: 785 entries, 0 to 0.648\n",
            "dtypes: int64(785)\n",
            "memory usage: 1.7 GB\n"
          ]
        }
      ]
    },
    {
      "cell_type": "code",
      "execution_count": null,
      "metadata": {
        "colab": {
          "base_uri": "https://localhost:8080/",
          "height": 165
        },
        "id": "GbaR9dbAsx1U",
        "outputId": "b2de69fa-ec58-491c-94ed-9acd6ce04386"
      },
      "outputs": [
        {
          "output_type": "error",
          "ename": "NameError",
          "evalue": "ignored",
          "traceback": [
            "\u001b[1;31m---------------------------------------------------------------------------\u001b[0m",
            "\u001b[1;31mNameError\u001b[0m                                 Traceback (most recent call last)",
            "\u001b[1;32m~\\AppData\\Local\\Temp\\ipykernel_15852\\3771845804.py\u001b[0m in \u001b[0;36m<module>\u001b[1;34m\u001b[0m\n\u001b[1;32m----> 1\u001b[1;33m \u001b[0mdf\u001b[0m\u001b[1;33m.\u001b[0m\u001b[0minfo\u001b[0m\u001b[1;33m(\u001b[0m\u001b[1;33m)\u001b[0m\u001b[1;33m\u001b[0m\u001b[1;33m\u001b[0m\u001b[0m\n\u001b[0m",
            "\u001b[1;31mNameError\u001b[0m: name 'df' is not defined"
          ]
        }
      ],
      "source": [
        "df.info()"
      ]
    },
    {
      "cell_type": "code",
      "execution_count": null,
      "metadata": {
        "colab": {
          "base_uri": "https://localhost:8080/"
        },
        "id": "BaM5PEAs9QYs",
        "outputId": "c676dbb1-7e07-40a7-97a1-3632e5ff54a4"
      },
      "outputs": [
        {
          "output_type": "execute_result",
          "data": {
            "text/plain": [
              "14    57825\n",
              "18    48419\n",
              "20    29008\n",
              "2     23409\n",
              "19    22495\n",
              "15    19341\n",
              "13    19010\n",
              "0     13869\n",
              "12    12336\n",
              "11    11586\n",
              "17    11566\n",
              "4     11440\n",
              "24    10859\n",
              "22    10784\n",
              "3     10134\n",
              "1      8668\n",
              "9      8493\n",
              "7      7218\n",
              "23     6272\n",
              "25     6076\n",
              "16     5812\n",
              "6      5762\n",
              "10     5603\n",
              "21     4182\n",
              "5      1163\n",
              "8      1120\n",
              "Name: 0, dtype: int64"
            ]
          },
          "metadata": {},
          "execution_count": 4
        }
      ],
      "source": [
        "df.iloc[:,0].value_counts()"
      ]
    },
    {
      "cell_type": "code",
      "execution_count": null,
      "metadata": {
        "colab": {
          "base_uri": "https://localhost:8080/"
        },
        "id": "Dg52hR2jthR7",
        "outputId": "a3c75e85-76cb-43b4-cf4a-a761e962aa10"
      },
      "outputs": [
        {
          "output_type": "stream",
          "name": "stdout",
          "text": [
            "[  0   0   0   0   0   0   0   0   0   0   0   0   0   0   0   0   0   0   0   0   0   0   0   0   0   0   0   0\n",
            "   0   0   0   0   0   0   0   0   0   0   0   0   0   0   0   0   0   0   0   0   0   0   0   0   0   0   0   0\n",
            "   0   0   0   0   0   0   0   0   0   0   0   0   0   0   0   0   0   0   0   0   0   0   0   0   0   0   0   0\n",
            "   0   0   0   0   0   0   0   0   0   0   0   0   0   0   0   0   0   0   0   0   0   0   0   0   0   0   0   0\n",
            "   0   0   0   0   0   0   0   0   0   0   0   0   0   0   0   0   0   0   0   0   0  20 114 224   0   0   0   0\n",
            "   0   0   0   0   0   0   0   0   0   0   0   0   0   0   0   0   0   0   0  10  87 188 226 255   0   0   0   0\n",
            "   0   0   0   0   0   0   0   0   0   0   0   0   0   0   0   0   0   0  44 167 177  51 223 137   0   0   0   0\n",
            "   0   0   0   0   0   0   0   0   0   0   0   0   0   0   0   0   5 113 206 118   0  83 255  20   0   0   0   0\n",
            "   0   0   0   0   0   0   0   0   0   0   0   0   0   0   0  25 142 206  44   0   0 191 102   1   0   0   0   0\n",
            "   0   0   0   0   0   0   0   0   0   0   0   0   0   0  32 189 178  18   0   5 181 169  12   0   0   0   0   0\n",
            "   0   0   0   0   0   0   0   0   0   0   0   0   0  37 233 157   0   0   0 137 230  15   0   0   0   0   0   0\n",
            "   0   0   0   0   0   0   0   0   0   0   0   0  60 237 146   4   0   7 109 237  78   0   0   0   0   0   0   0\n",
            "   0   0   0   0   0   0   0   0   0   0   0 113 255 196   0   0   5 167 255 255  64   0   0   0   0   0   0   0\n",
            "   0   0   0   0   0   0   0   0   0   0 110 243 243  27   0  74 191 243 175 249 157   0   0   0   0   0   0   0\n",
            "   0   0   0   0   0   0   0   0   0  86 243 245  49   0  94 249 243  61   4 237  78   0   0   0   0   0   0   0\n",
            "   0   0   0   0   0   0   0   0  53 222 219  31   0   0  53 143  39   0  69 255  69   0   0   0   0   0   0   0\n",
            "   0   0   0   0   0   0   0  39 240 248  47   0   0   0   0   0   0   0 137 201   0   0   0   0   0   0   0   0\n",
            "   0   0   0   0   0   0  15 172 250  64   0   0   0   0   0   0   0  54 240  78   0   0   0   0   0   0   0   0\n",
            "   0   0   0   0 129  18 132 255 137   0   0   0   0   0   0   0  37 228 102   1   0   0   0   0   0   0   0   0\n",
            "   0   0   0   0 172 218 243 221  25   0   0   0   0   0   0  64 205 129   0   0   0   0   0   0   0   0   0   0\n",
            "   0   0   0   0  98 255 255  98   0   0   0   0   0   5  93 240 132   0   0   0   0   0   0   0   0   0   0   0\n",
            "   0   0   0   0  98 255 255 152  15   0   0   0  54 147 244  94   0   0   0   0   0   0   0   0   0   0   0   0\n",
            "   0   0   0   0  49 230 191 250 227 143 143 192 250 154  37   0   0   0   0   0   0   0   0   0   0   0   0   0\n",
            "   0   0   0   0   0  10   0  39 151 237 255 157  64   0   0   0   0   0   0   0   0   0   0   0   0   0   0   0\n",
            "   0   0   0   0   0   0   0   0   0   0   0   0   0   0   0   0   0   0   0   0   0   0   0   0   0   0   0   0\n",
            "   0   0   0   0   0   0   0   0   0   0   0   0   0   0   0   0   0   0   0   0   0   0   0   0   0   0   0   0\n",
            "   0   0   0   0   0   0   0   0   0   0   0   0   0   0   0   0   0   0   0   0   0   0   0   0   0   0   0   0\n",
            "   0   0   0   0   0   0   0   0   0   0   0   0   0   0   0   0   0   0   0   0   0   0   0   0   0   0   0   0]\n",
            "<class 'numpy.ndarray'>\n",
            "(784,)\n"
          ]
        }
      ],
      "source": [
        "row1 = df.iloc[16290,:].values\n",
        "row1 = row1[1:785]\n",
        "\n",
        "print(row1)\n",
        "print(type(row1))\n",
        "print(row1.shape)\n"
      ]
    },
    {
      "cell_type": "code",
      "execution_count": null,
      "metadata": {
        "id": "igfF-co9u81_"
      },
      "outputs": [],
      "source": [
        "mat1 = np.resize(row1, (28, 28))"
      ]
    },
    {
      "cell_type": "code",
      "execution_count": null,
      "metadata": {
        "colab": {
          "base_uri": "https://localhost:8080/"
        },
        "id": "x14koVoEv-QZ",
        "outputId": "b3c9136e-1cc4-4245-c29f-4bdf8a781cbd"
      },
      "outputs": [
        {
          "output_type": "stream",
          "name": "stdout",
          "text": [
            "[[  0   0   0   0   0   0   0   0   0   0   0   0   0   0   0   0   0   0   0   0   0   0   0   0   0   0   0   0]\n",
            " [  0   0   0   0   0   0   0   0   0   0   0   0   0   0   0   0   0   0   0   0   0   0   0   0   0   0   0   0]\n",
            " [  0   0   0   0   0   0   0   0   0   0   0   0   0   0   0   0   0   0   0   0   0   0   0   0   0   0   0   0]\n",
            " [  0   0   0   0   0   0   0   0   0   0   0   0   0   0   0   0   0   0   0   0   0   0   0   0   0   0   0   0]\n",
            " [  0   0   0   0   0   0   0   0   0   0   0   0   0   0   0   0   0   0   0   0   0  20 114 224   0   0   0   0]\n",
            " [  0   0   0   0   0   0   0   0   0   0   0   0   0   0   0   0   0   0   0  10  87 188 226 255   0   0   0   0]\n",
            " [  0   0   0   0   0   0   0   0   0   0   0   0   0   0   0   0   0   0  44 167 177  51 223 137   0   0   0   0]\n",
            " [  0   0   0   0   0   0   0   0   0   0   0   0   0   0   0   0   5 113 206 118   0  83 255  20   0   0   0   0]\n",
            " [  0   0   0   0   0   0   0   0   0   0   0   0   0   0   0  25 142 206  44   0   0 191 102   1   0   0   0   0]\n",
            " [  0   0   0   0   0   0   0   0   0   0   0   0   0   0  32 189 178  18   0   5 181 169  12   0   0   0   0   0]\n",
            " [  0   0   0   0   0   0   0   0   0   0   0   0   0  37 233 157   0   0   0 137 230  15   0   0   0   0   0   0]\n",
            " [  0   0   0   0   0   0   0   0   0   0   0   0  60 237 146   4   0   7 109 237  78   0   0   0   0   0   0   0]\n",
            " [  0   0   0   0   0   0   0   0   0   0   0 113 255 196   0   0   5 167 255 255  64   0   0   0   0   0   0   0]\n",
            " [  0   0   0   0   0   0   0   0   0   0 110 243 243  27   0  74 191 243 175 249 157   0   0   0   0   0   0   0]\n",
            " [  0   0   0   0   0   0   0   0   0  86 243 245  49   0  94 249 243  61   4 237  78   0   0   0   0   0   0   0]\n",
            " [  0   0   0   0   0   0   0   0  53 222 219  31   0   0  53 143  39   0  69 255  69   0   0   0   0   0   0   0]\n",
            " [  0   0   0   0   0   0   0  39 240 248  47   0   0   0   0   0   0   0 137 201   0   0   0   0   0   0   0   0]\n",
            " [  0   0   0   0   0   0  15 172 250  64   0   0   0   0   0   0   0  54 240  78   0   0   0   0   0   0   0   0]\n",
            " [  0   0   0   0 129  18 132 255 137   0   0   0   0   0   0   0  37 228 102   1   0   0   0   0   0   0   0   0]\n",
            " [  0   0   0   0 172 218 243 221  25   0   0   0   0   0   0  64 205 129   0   0   0   0   0   0   0   0   0   0]\n",
            " [  0   0   0   0  98 255 255  98   0   0   0   0   0   5  93 240 132   0   0   0   0   0   0   0   0   0   0   0]\n",
            " [  0   0   0   0  98 255 255 152  15   0   0   0  54 147 244  94   0   0   0   0   0   0   0   0   0   0   0   0]\n",
            " [  0   0   0   0  49 230 191 250 227 143 143 192 250 154  37   0   0   0   0   0   0   0   0   0   0   0   0   0]\n",
            " [  0   0   0   0   0  10   0  39 151 237 255 157  64   0   0   0   0   0   0   0   0   0   0   0   0   0   0   0]\n",
            " [  0   0   0   0   0   0   0   0   0   0   0   0   0   0   0   0   0   0   0   0   0   0   0   0   0   0   0   0]\n",
            " [  0   0   0   0   0   0   0   0   0   0   0   0   0   0   0   0   0   0   0   0   0   0   0   0   0   0   0   0]\n",
            " [  0   0   0   0   0   0   0   0   0   0   0   0   0   0   0   0   0   0   0   0   0   0   0   0   0   0   0   0]\n",
            " [  0   0   0   0   0   0   0   0   0   0   0   0   0   0   0   0   0   0   0   0   0   0   0   0   0   0   0   0]]\n"
          ]
        }
      ],
      "source": [
        "\n",
        "print(mat1)"
      ]
    },
    {
      "cell_type": "code",
      "execution_count": null,
      "metadata": {
        "id": "L9zk9GiAwZOK"
      },
      "outputs": [],
      "source": [
        "im = Image.fromarray(mat1.astype(np.uint8))"
      ]
    },
    {
      "cell_type": "code",
      "execution_count": null,
      "metadata": {
        "colab": {
          "base_uri": "https://localhost:8080/",
          "height": 45
        },
        "id": "RtP1WjcKxHAF",
        "outputId": "87b975e0-7d5c-414e-ebfa-3859302846a7"
      },
      "outputs": [
        {
          "output_type": "execute_result",
          "data": {
            "text/plain": [
              "<PIL.Image.Image image mode=L size=28x28 at 0x7F9CFD97E990>"
            ],
            "image/png": "[encoded data removed]"
          },
          "metadata": {},
          "execution_count": 27
        }
      ],
      "source": [
        "im"
      ]
    },
    {
      "cell_type": "markdown",
      "metadata": {
        "id": "bnt161mqs_pZ"
      },
      "source": []
    }
  ],
  "metadata": {
    "colab": {
      "provenance": [],
      "collapsed_sections": []
    },
    "kernelspec": {
      "display_name": "Python 3",
      "name": "python3"
    },
    "language_info": {
      "name": "python"
    }
  },
  "nbformat": 4,
  "nbformat_minor": 0
}